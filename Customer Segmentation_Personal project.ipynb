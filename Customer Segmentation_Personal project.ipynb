{
 "cells": [
  {
   "cell_type": "markdown",
   "id": "6656d4a3",
   "metadata": {},
   "source": [
    "## A project on Customer Segmentation by: **Pranav Raj**"
   ]
  },
  {
   "cell_type": "markdown",
   "id": "356da3eb",
   "metadata": {},
   "source": [
    "## Introduction\n",
    "\n",
    "Customer segmentation is important for businesses to understand their target audience. \n",
    "\n",
    "Different advertisements can be curated and sent to different audience segments based on their demographic profile, interests, and affluence level.\n",
    "\n",
    "A segment based approach can be taken to improve the business."
   ]
  },
  {
   "cell_type": "markdown",
   "id": "54cd15c1",
   "metadata": {},
   "source": [
    "# Importing libraries "
   ]
  },
  {
   "cell_type": "code",
   "execution_count": 1,
   "id": "8df73620",
   "metadata": {},
   "outputs": [],
   "source": [
    "import numpy as np \n",
    "import pandas as pd\n",
    "import matplotlib.pyplot as plt\n",
    "import seaborn as sns\n",
    "import os\n",
    "from kneed import KneeLocator\n",
    "from sklearn.datasets import make_blobs\n",
    "\n",
    "#K-Means and Silhouette score\n",
    "from sklearn.cluster import KMeans\n",
    "from sklearn.metrics import silhouette_score\n",
    "\n",
    "#Standardisation\n",
    "from sklearn.preprocessing import StandardScaler\n",
    "\n",
    "#PCA\n",
    "from sklearn.decomposition import PCA\n",
    "from mpl_toolkits.mplot3d import Axes3D\n",
    "\n",
    "#Warnings\n",
    "import warnings\n",
    "warnings.filterwarnings(\"ignore\")\n",
    "\n",
    "# Dendogram and Linkage\n",
    "import scipy\n",
    "from scipy.cluster.hierarchy import dendrogram, linkage\n",
    "\n",
    "# Agglomorerative Hierarchical Clustering\n",
    "import sklearn\n",
    "from sklearn.cluster import AgglomerativeClustering"
   ]
  },
  {
   "cell_type": "markdown",
   "id": "4fe6ce53",
   "metadata": {},
   "source": [
    "## Importing and reading the dataset"
   ]
  },
  {
   "cell_type": "code",
   "execution_count": 2,
   "id": "a4f63230",
   "metadata": {},
   "outputs": [
    {
     "data": {
      "text/html": [
       "<div>\n",
       "<style scoped>\n",
       "    .dataframe tbody tr th:only-of-type {\n",
       "        vertical-align: middle;\n",
       "    }\n",
       "\n",
       "    .dataframe tbody tr th {\n",
       "        vertical-align: top;\n",
       "    }\n",
       "\n",
       "    .dataframe thead th {\n",
       "        text-align: right;\n",
       "    }\n",
       "</style>\n",
       "<table border=\"1\" class=\"dataframe\">\n",
       "  <thead>\n",
       "    <tr style=\"text-align: right;\">\n",
       "      <th></th>\n",
       "      <th>CustomerID</th>\n",
       "      <th>Gender</th>\n",
       "      <th>Age</th>\n",
       "      <th>Annual Income (k$)</th>\n",
       "      <th>Spending Score (1-100)</th>\n",
       "    </tr>\n",
       "  </thead>\n",
       "  <tbody>\n",
       "    <tr>\n",
       "      <th>0</th>\n",
       "      <td>1</td>\n",
       "      <td>Male</td>\n",
       "      <td>19</td>\n",
       "      <td>15</td>\n",
       "      <td>39</td>\n",
       "    </tr>\n",
       "    <tr>\n",
       "      <th>1</th>\n",
       "      <td>2</td>\n",
       "      <td>Male</td>\n",
       "      <td>21</td>\n",
       "      <td>15</td>\n",
       "      <td>81</td>\n",
       "    </tr>\n",
       "    <tr>\n",
       "      <th>2</th>\n",
       "      <td>3</td>\n",
       "      <td>Female</td>\n",
       "      <td>20</td>\n",
       "      <td>16</td>\n",
       "      <td>6</td>\n",
       "    </tr>\n",
       "    <tr>\n",
       "      <th>3</th>\n",
       "      <td>4</td>\n",
       "      <td>Female</td>\n",
       "      <td>23</td>\n",
       "      <td>16</td>\n",
       "      <td>77</td>\n",
       "    </tr>\n",
       "    <tr>\n",
       "      <th>4</th>\n",
       "      <td>5</td>\n",
       "      <td>Female</td>\n",
       "      <td>31</td>\n",
       "      <td>17</td>\n",
       "      <td>40</td>\n",
       "    </tr>\n",
       "  </tbody>\n",
       "</table>\n",
       "</div>"
      ],
      "text/plain": [
       "   CustomerID  Gender  Age  Annual Income (k$)  Spending Score (1-100)\n",
       "0           1    Male   19                  15                      39\n",
       "1           2    Male   21                  15                      81\n",
       "2           3  Female   20                  16                       6\n",
       "3           4  Female   23                  16                      77\n",
       "4           5  Female   31                  17                      40"
      ]
     },
     "execution_count": 2,
     "metadata": {},
     "output_type": "execute_result"
    }
   ],
   "source": [
    "data = pd.read_csv(\"/Users/pranavsmac/Documents/Praxis Study Materials/Dataset/Mall_Customers.csv\")\n",
    "data.head()"
   ]
  },
  {
   "cell_type": "markdown",
   "id": "60e380a8",
   "metadata": {},
   "source": [
    "Here we have a dataset which comprises observations of different customers which might have visited recently to that mall."
   ]
  },
  {
   "cell_type": "code",
   "execution_count": 3,
   "id": "e151f59f",
   "metadata": {},
   "outputs": [
    {
     "data": {
      "text/plain": [
       "(200, 5)"
      ]
     },
     "execution_count": 3,
     "metadata": {},
     "output_type": "execute_result"
    }
   ],
   "source": [
    "data.shape"
   ]
  },
  {
   "cell_type": "code",
   "execution_count": 4,
   "id": "8d145570",
   "metadata": {},
   "outputs": [
    {
     "data": {
      "text/plain": [
       "CustomerID                0\n",
       "Gender                    0\n",
       "Age                       0\n",
       "Annual Income (k$)        0\n",
       "Spending Score (1-100)    0\n",
       "dtype: int64"
      ]
     },
     "execution_count": 4,
     "metadata": {},
     "output_type": "execute_result"
    }
   ],
   "source": [
    "data.isnull().sum()"
   ]
  },
  {
   "cell_type": "markdown",
   "id": "ae12640f",
   "metadata": {},
   "source": [
    "* Luckily we have no *Null* observations.\n",
    "\n",
    "* There are five variables in the dataset.\n",
    "\n",
    "* CustomerID is the unique identifier for each customer in the dataset. We can drop this variable since it does not provide any useful cluster information.\n",
    "\n",
    "* Since gender is categorical, it needs to be encoded and converted into numeric.\n",
    "\n",
    "* All other variables meeds to be scaled down to follow.a normal distribution before being fitted into the model. We will standardise these variables with a mean of 0 and standard deviation of 1."
   ]
  },
  {
   "cell_type": "code",
   "execution_count": 5,
   "id": "f979d7e4",
   "metadata": {},
   "outputs": [],
   "source": [
    "data = data.drop(['CustomerID'], axis = 1)"
   ]
  },
  {
   "cell_type": "code",
   "execution_count": 6,
   "id": "1db3ef10",
   "metadata": {},
   "outputs": [
    {
     "data": {
      "text/html": [
       "<div>\n",
       "<style scoped>\n",
       "    .dataframe tbody tr th:only-of-type {\n",
       "        vertical-align: middle;\n",
       "    }\n",
       "\n",
       "    .dataframe tbody tr th {\n",
       "        vertical-align: top;\n",
       "    }\n",
       "\n",
       "    .dataframe thead th {\n",
       "        text-align: right;\n",
       "    }\n",
       "</style>\n",
       "<table border=\"1\" class=\"dataframe\">\n",
       "  <thead>\n",
       "    <tr style=\"text-align: right;\">\n",
       "      <th></th>\n",
       "      <th>Gender</th>\n",
       "      <th>Age</th>\n",
       "      <th>Annual Income (k$)</th>\n",
       "      <th>Spending Score (1-100)</th>\n",
       "    </tr>\n",
       "  </thead>\n",
       "  <tbody>\n",
       "    <tr>\n",
       "      <th>195</th>\n",
       "      <td>Female</td>\n",
       "      <td>35</td>\n",
       "      <td>120</td>\n",
       "      <td>79</td>\n",
       "    </tr>\n",
       "    <tr>\n",
       "      <th>196</th>\n",
       "      <td>Female</td>\n",
       "      <td>45</td>\n",
       "      <td>126</td>\n",
       "      <td>28</td>\n",
       "    </tr>\n",
       "    <tr>\n",
       "      <th>197</th>\n",
       "      <td>Male</td>\n",
       "      <td>32</td>\n",
       "      <td>126</td>\n",
       "      <td>74</td>\n",
       "    </tr>\n",
       "    <tr>\n",
       "      <th>198</th>\n",
       "      <td>Male</td>\n",
       "      <td>32</td>\n",
       "      <td>137</td>\n",
       "      <td>18</td>\n",
       "    </tr>\n",
       "    <tr>\n",
       "      <th>199</th>\n",
       "      <td>Male</td>\n",
       "      <td>30</td>\n",
       "      <td>137</td>\n",
       "      <td>83</td>\n",
       "    </tr>\n",
       "  </tbody>\n",
       "</table>\n",
       "</div>"
      ],
      "text/plain": [
       "     Gender  Age  Annual Income (k$)  Spending Score (1-100)\n",
       "195  Female   35                 120                      79\n",
       "196  Female   45                 126                      28\n",
       "197    Male   32                 126                      74\n",
       "198    Male   32                 137                      18\n",
       "199    Male   30                 137                      83"
      ]
     },
     "execution_count": 6,
     "metadata": {},
     "output_type": "execute_result"
    }
   ],
   "source": [
    "data.tail()"
   ]
  },
  {
   "cell_type": "markdown",
   "id": "81c0a474",
   "metadata": {},
   "source": [
    "# EDA"
   ]
  },
  {
   "cell_type": "code",
   "execution_count": 30,
   "id": "c49fbfb2",
   "metadata": {},
   "outputs": [
    {
     "data": {
      "text/html": [
       "<div>\n",
       "<style scoped>\n",
       "    .dataframe tbody tr th:only-of-type {\n",
       "        vertical-align: middle;\n",
       "    }\n",
       "\n",
       "    .dataframe tbody tr th {\n",
       "        vertical-align: top;\n",
       "    }\n",
       "\n",
       "    .dataframe thead th {\n",
       "        text-align: right;\n",
       "    }\n",
       "</style>\n",
       "<table border=\"1\" class=\"dataframe\">\n",
       "  <thead>\n",
       "    <tr style=\"text-align: right;\">\n",
       "      <th></th>\n",
       "      <th>Age</th>\n",
       "      <th>Annual Income (k$)</th>\n",
       "      <th>Spending Score (1-100)</th>\n",
       "    </tr>\n",
       "  </thead>\n",
       "  <tbody>\n",
       "    <tr>\n",
       "      <th>count</th>\n",
       "      <td>200.000000</td>\n",
       "      <td>200.000000</td>\n",
       "      <td>200.000000</td>\n",
       "    </tr>\n",
       "    <tr>\n",
       "      <th>mean</th>\n",
       "      <td>38.850000</td>\n",
       "      <td>60.560000</td>\n",
       "      <td>50.200000</td>\n",
       "    </tr>\n",
       "    <tr>\n",
       "      <th>std</th>\n",
       "      <td>13.969007</td>\n",
       "      <td>26.264721</td>\n",
       "      <td>25.823522</td>\n",
       "    </tr>\n",
       "    <tr>\n",
       "      <th>min</th>\n",
       "      <td>18.000000</td>\n",
       "      <td>15.000000</td>\n",
       "      <td>1.000000</td>\n",
       "    </tr>\n",
       "    <tr>\n",
       "      <th>25%</th>\n",
       "      <td>28.750000</td>\n",
       "      <td>41.500000</td>\n",
       "      <td>34.750000</td>\n",
       "    </tr>\n",
       "    <tr>\n",
       "      <th>50%</th>\n",
       "      <td>36.000000</td>\n",
       "      <td>61.500000</td>\n",
       "      <td>50.000000</td>\n",
       "    </tr>\n",
       "    <tr>\n",
       "      <th>75%</th>\n",
       "      <td>49.000000</td>\n",
       "      <td>78.000000</td>\n",
       "      <td>73.000000</td>\n",
       "    </tr>\n",
       "    <tr>\n",
       "      <th>max</th>\n",
       "      <td>70.000000</td>\n",
       "      <td>137.000000</td>\n",
       "      <td>99.000000</td>\n",
       "    </tr>\n",
       "  </tbody>\n",
       "</table>\n",
       "</div>"
      ],
      "text/plain": [
       "              Age  Annual Income (k$)  Spending Score (1-100)\n",
       "count  200.000000          200.000000              200.000000\n",
       "mean    38.850000           60.560000               50.200000\n",
       "std     13.969007           26.264721               25.823522\n",
       "min     18.000000           15.000000                1.000000\n",
       "25%     28.750000           41.500000               34.750000\n",
       "50%     36.000000           61.500000               50.000000\n",
       "75%     49.000000           78.000000               73.000000\n",
       "max     70.000000          137.000000               99.000000"
      ]
     },
     "execution_count": 30,
     "metadata": {},
     "output_type": "execute_result"
    }
   ],
   "source": [
    "data.describe()"
   ]
  },
  {
   "cell_type": "code",
   "execution_count": 41,
   "id": "d376b33b",
   "metadata": {},
   "outputs": [],
   "source": [
    "def Graph(data, columns = '', directory = os.getcwd()):\n",
    "    \n",
    "    try:                     #to catch exceptions\n",
    "        if columns == '':                #If no columns mentioned, considers all columns\n",
    "            org_data = data\n",
    "        else:\n",
    "            org_data = data[columns]           #Takes mentioned columns only\n",
    "        \n",
    "        Numerical = []\n",
    "        Categorical = []\n",
    "        for columns in data:\n",
    "            if (data.dtypes[columns] == 'int64') or (data.dtypes[columns] == 'float64'):         #Numerical columns\n",
    "                Numerical.append(columns)\n",
    "            else:\n",
    "                Categorical.append(columns)       #categorical columns\n",
    "\n",
    "        print (\"***Graphs for Numerical data***\\n\")\n",
    "        Discrete = []\n",
    "        Continuous = []\n",
    "        for i in Numerical:\n",
    "            if len(data[i].value_counts())>10:         # Unique counts greater than 10 considered as continuous\n",
    "                print (\"***Graph for Continuous data***\\n\")\n",
    "                data.boxplot(column = i,grid = True,figsize = (6,4),vert = True)  #boxplot\n",
    "                data.hist(column = i,grid = False,figsize = (6,4),color = \"turquoise\",edgecolor = \"purple\")   #histogram\n",
    "                plt.title(i, fontsize = 14)\n",
    "                #plt.savefig(directory + r'/%s.png' %i)       #saving as '.png' image in the given directory\n",
    "                plt.show()\n",
    "            else:                    #10 and less unique counts considered as discrete\n",
    "                print (\"***Graph for Discrete data***\\n\")\n",
    "                data[i].value_counts().plot(kind = 'bar',rot=0, figsize = (10,10),color = \"pink\",edgecolor = \"red\",fontsize = 13)       #barplot\n",
    "                plt.title(i, fontsize = 14)\n",
    "                #plt.savefig(directory + r'/%s.png' %i)\n",
    "                plt.show()\n",
    "\n",
    "\n",
    "        print (\"\\n***Graphs for Categorical data***\\n\")\n",
    "        for i in Categorical or len(data[i].value_counts())<10:\n",
    "            data[i].value_counts().plot(kind = 'bar',rot=0, figsize = (5,5),color = \"orange\",edgecolor = \"maroon\",fontsize = 13)       #barplot\n",
    "            plt.ylabel('count')\n",
    "            plt.title(i, fontsize = 14)\n",
    "            #plt.savefig(directory + r'/%s.png' %i)\n",
    "            plt.show()\n",
    "    #error handling\n",
    "    except KeyError:                                        \n",
    "        print(\"\\nPlease Enter valid column names\")\n",
    "    except FileNotFoundError:                              \n",
    "        print(\"\\nFile not found. Please enter the valid path of directory\")\n",
    "    except:\n",
    "        print(\"\\nERROR\") "
   ]
  },
  {
   "cell_type": "code",
   "execution_count": 42,
   "id": "17688444",
   "metadata": {},
   "outputs": [
    {
     "name": "stdout",
     "output_type": "stream",
     "text": [
      "***Graphs for Numerical data***\n",
      "\n",
      "***Graph for Continuous data***\n",
      "\n"
     ]
    },
    {
     "data": {
      "image/png": "[encoded data removed]",
      "text/plain": [
       "<Figure size 432x288 with 1 Axes>"
      ]
     },
     "metadata": {
      "needs_background": "light"
     },
     "output_type": "display_data"
    },
    {
     "data": {
      "image/png": "[encoded data removed]",
      "text/plain": [
       "<Figure size 432x288 with 1 Axes>"
      ]
     },
     "metadata": {
      "needs_background": "light"
     },
     "output_type": "display_data"
    },
    {
     "name": "stdout",
     "output_type": "stream",
     "text": [
      "***Graph for Continuous data***\n",
      "\n"
     ]
    },
    {
     "data": {
      "image/png": "[encoded data removed]",
      "text/plain": [
       "<Figure size 432x288 with 1 Axes>"
      ]
     },
     "metadata": {
      "needs_background": "light"
     },
     "output_type": "display_data"
    },
    {
     "data": {
      "image/png": "[encoded data removed]",
      "text/plain": [
       "<Figure size 432x288 with 1 Axes>"
      ]
     },
     "metadata": {
      "needs_background": "light"
     },
     "output_type": "display_data"
    },
    {
     "name": "stdout",
     "output_type": "stream",
     "text": [
      "***Graph for Continuous data***\n",
      "\n"
     ]
    },
    {
     "data": {
      "image/png": "[encoded data removed]",
      "text/plain": [
       "<Figure size 432x288 with 1 Axes>"
      ]
     },
     "metadata": {
      "needs_background": "light"
     },
     "output_type": "display_data"
    },
    {
     "data": {
      "image/png": "[encoded data removed]",
      "text/plain": [
       "<Figure size 432x288 with 1 Axes>"
      ]
     },
     "metadata": {
      "needs_background": "light"
     },
     "output_type": "display_data"
    },
    {
     "name": "stdout",
     "output_type": "stream",
     "text": [
      "\n",
      "***Graphs for Categorical data***\n",
      "\n"
     ]
    },
    {
     "data": {
      "image/png": "[encoded data removed]",
      "text/plain": [
       "<Figure size 360x360 with 1 Axes>"
      ]
     },
     "metadata": {
      "needs_background": "light"
     },
     "output_type": "display_data"
    }
   ],
   "source": [
    "Graph(data, columns = '', directory = \"/Users/pranavsmac/Documents/Praxis Study Materials/Dataset/\")"
   ]
  },
  {
   "cell_type": "markdown",
   "id": "80448459",
   "metadata": {},
   "source": [
    "* We can see that customers age has a median of 36.\n",
    "\n",
    "* It can be observed that even senior citizens consists of 25% of customers, which is quite a surprise since the normal intuition would be senior citizens won't shop much.\n",
    "\n",
    "* There is a dense concentration on customers ranging from 20-36 yrs. of age, which consists of 50% of observations. \n",
    "\n",
    "* Annual Income and Spending score seems collinear, which might be true, since people who are earning will have a spending score accordingly."
   ]
  },
  {
   "cell_type": "markdown",
   "id": "ca90e25b",
   "metadata": {},
   "source": [
    "# Standardizing variables"
   ]
  },
  {
   "cell_type": "markdown",
   "id": "6c92e84e",
   "metadata": {},
   "source": [
    "Scaling the variables is important, to get all the variables around the same scale."
   ]
  },
  {
   "cell_type": "code",
   "execution_count": 45,
   "id": "9d5058aa",
   "metadata": {},
   "outputs": [
    {
     "data": {
      "text/html": [
       "<div>\n",
       "<style scoped>\n",
       "    .dataframe tbody tr th:only-of-type {\n",
       "        vertical-align: middle;\n",
       "    }\n",
       "\n",
       "    .dataframe tbody tr th {\n",
       "        vertical-align: top;\n",
       "    }\n",
       "\n",
       "    .dataframe thead th {\n",
       "        text-align: right;\n",
       "    }\n",
       "</style>\n",
       "<table border=\"1\" class=\"dataframe\">\n",
       "  <thead>\n",
       "    <tr style=\"text-align: right;\">\n",
       "      <th></th>\n",
       "      <th>Annual Income (k$)</th>\n",
       "      <th>Age</th>\n",
       "      <th>Spending Score (1-100)</th>\n",
       "    </tr>\n",
       "  </thead>\n",
       "  <tbody>\n",
       "    <tr>\n",
       "      <th>0</th>\n",
       "      <td>-1.738999</td>\n",
       "      <td>-1.424569</td>\n",
       "      <td>-0.434801</td>\n",
       "    </tr>\n",
       "    <tr>\n",
       "      <th>1</th>\n",
       "      <td>-1.738999</td>\n",
       "      <td>-1.281035</td>\n",
       "      <td>1.195704</td>\n",
       "    </tr>\n",
       "    <tr>\n",
       "      <th>2</th>\n",
       "      <td>-1.700830</td>\n",
       "      <td>-1.352802</td>\n",
       "      <td>-1.715913</td>\n",
       "    </tr>\n",
       "    <tr>\n",
       "      <th>3</th>\n",
       "      <td>-1.700830</td>\n",
       "      <td>-1.137502</td>\n",
       "      <td>1.040418</td>\n",
       "    </tr>\n",
       "    <tr>\n",
       "      <th>4</th>\n",
       "      <td>-1.662660</td>\n",
       "      <td>-0.563369</td>\n",
       "      <td>-0.395980</td>\n",
       "    </tr>\n",
       "  </tbody>\n",
       "</table>\n",
       "</div>"
      ],
      "text/plain": [
       "   Annual Income (k$)       Age  Spending Score (1-100)\n",
       "0           -1.738999 -1.424569               -0.434801\n",
       "1           -1.738999 -1.281035                1.195704\n",
       "2           -1.700830 -1.352802               -1.715913\n",
       "3           -1.700830 -1.137502                1.040418\n",
       "4           -1.662660 -0.563369               -0.395980"
      ]
     },
     "execution_count": 45,
     "metadata": {},
     "output_type": "execute_result"
    }
   ],
   "source": [
    "col = ['Annual Income (k$)', 'Age', 'Spending Score (1-100)']\n",
    "features = data[col]\n",
    "scaler = StandardScaler().fit(features.values)\n",
    "features = scaler. transform(features.values)\n",
    "scaled_features = pd.DataFrame(features, columns = col)\n",
    "scaled_features.head()"
   ]
  },
  {
   "cell_type": "markdown",
   "id": "3abf91c4",
   "metadata": {},
   "source": [
    "We can observe that the variables have been standardised and are now centered around zero."
   ]
  },
  {
   "cell_type": "markdown",
   "id": "b62bac89",
   "metadata": {},
   "source": [
    "# One hot encoding"
   ]
  },
  {
   "cell_type": "markdown",
   "id": "00285b8f",
   "metadata": {},
   "source": [
    "* Since gender is categorical, it needs to be encoded and converted into numeric.\n",
    "\n",
    "* This means we need to assign a numeric value for each category using dummy variables. Dummy variables works under pandas library using pd.get_dummies()."
   ]
  },
  {
   "cell_type": "code",
   "execution_count": 46,
   "id": "eed2e3d1",
   "metadata": {},
   "outputs": [
    {
     "data": {
      "text/html": [
       "<div>\n",
       "<style scoped>\n",
       "    .dataframe tbody tr th:only-of-type {\n",
       "        vertical-align: middle;\n",
       "    }\n",
       "\n",
       "    .dataframe tbody tr th {\n",
       "        vertical-align: top;\n",
       "    }\n",
       "\n",
       "    .dataframe thead th {\n",
       "        text-align: right;\n",
       "    }\n",
       "</style>\n",
       "<table border=\"1\" class=\"dataframe\">\n",
       "  <thead>\n",
       "    <tr style=\"text-align: right;\">\n",
       "      <th></th>\n",
       "      <th>Annual Income (k$)</th>\n",
       "      <th>Age</th>\n",
       "      <th>Spending Score (1-100)</th>\n",
       "      <th>Gender_Female</th>\n",
       "    </tr>\n",
       "  </thead>\n",
       "  <tbody>\n",
       "    <tr>\n",
       "      <th>0</th>\n",
       "      <td>-1.738999</td>\n",
       "      <td>-1.424569</td>\n",
       "      <td>-0.434801</td>\n",
       "      <td>0</td>\n",
       "    </tr>\n",
       "    <tr>\n",
       "      <th>1</th>\n",
       "      <td>-1.738999</td>\n",
       "      <td>-1.281035</td>\n",
       "      <td>1.195704</td>\n",
       "      <td>0</td>\n",
       "    </tr>\n",
       "    <tr>\n",
       "      <th>2</th>\n",
       "      <td>-1.700830</td>\n",
       "      <td>-1.352802</td>\n",
       "      <td>-1.715913</td>\n",
       "      <td>1</td>\n",
       "    </tr>\n",
       "    <tr>\n",
       "      <th>3</th>\n",
       "      <td>-1.700830</td>\n",
       "      <td>-1.137502</td>\n",
       "      <td>1.040418</td>\n",
       "      <td>1</td>\n",
       "    </tr>\n",
       "    <tr>\n",
       "      <th>4</th>\n",
       "      <td>-1.662660</td>\n",
       "      <td>-0.563369</td>\n",
       "      <td>-0.395980</td>\n",
       "      <td>1</td>\n",
       "    </tr>\n",
       "  </tbody>\n",
       "</table>\n",
       "</div>"
      ],
      "text/plain": [
       "   Annual Income (k$)       Age  Spending Score (1-100)  Gender_Female\n",
       "0           -1.738999 -1.424569               -0.434801              0\n",
       "1           -1.738999 -1.281035                1.195704              0\n",
       "2           -1.700830 -1.352802               -1.715913              1\n",
       "3           -1.700830 -1.137502                1.040418              1\n",
       "4           -1.662660 -0.563369               -0.395980              1"
      ]
     },
     "execution_count": 46,
     "metadata": {},
     "output_type": "execute_result"
    }
   ],
   "source": [
    "gender = data['Gender']\n",
    "new_data = scaled_features.join(gender)\n",
    "\n",
    "new_data = pd.get_dummies(new_data, prefix=None, prefix_sep='_', dummy_na=False, columns=None, sparse=False, drop_first=False, dtype=None)   #one hot encoding\n",
    "\n",
    "new_data = new_data.drop(['Gender_Male'],axis=1)    #to get just female columns, the observations with zeroes in them are considered as male and 1 means female.\n",
    "\n",
    "new_data.head()"
   ]
  },
  {
   "cell_type": "markdown",
   "id": "008a4faf",
   "metadata": {},
   "source": [
    "# Dendrogram and Linkage\n",
    "\n",
    "    The linkage methods work by calculating the distances or similarities between all objects."
   ]
  },
  {
   "cell_type": "markdown",
   "id": "b61ccd26",
   "metadata": {},
   "source": [
    "### *Complete Linkage*\n",
    "\n",
    "    For two clusters R and S, the complete linkage returns the maximum distance between two points i and j such that i belongs to R and j belongs to S.\n"
   ]
  },
  {
   "cell_type": "code",
   "execution_count": 9,
   "id": "030f69fe",
   "metadata": {},
   "outputs": [],
   "source": [
    "#Initialising 'Z' for checking Complete Linkage on 'new_data'\n",
    "Z = linkage(new_data, \"complete\")           "
   ]
  },
  {
   "cell_type": "code",
   "execution_count": 10,
   "id": "58666b9b",
   "metadata": {},
   "outputs": [
    {
     "data": {
      "image/png": "[encoded data removed]",
      "text/plain": [
       "<Figure size 432x288 with 1 Axes>"
      ]
     },
     "metadata": {
      "needs_background": "light"
     },
     "output_type": "display_data"
    }
   ],
   "source": [
    "#plotting Dendrogram for clustering\n",
    "dendrogram(Z, leaf_rotation=90, leaf_font_size=1.)\n",
    "plt.title(\"Dendrogram\")\n",
    "plt.xlabel('Cluster size')\n",
    "plt.ylabel('Distance')\n",
    "plt.show()"
   ]
  },
  {
   "cell_type": "code",
   "execution_count": 11,
   "id": "dbbb401e",
   "metadata": {},
   "outputs": [
    {
     "data": {
      "image/png": "[encoded data removed]",
      "text/plain": [
       "<Figure size 432x288 with 1 Axes>"
      ]
     },
     "metadata": {
      "needs_background": "light"
     },
     "output_type": "display_data"
    }
   ],
   "source": [
    "#truncating dendrogram for a cleaner view\n",
    "dendrogram(Z, truncate_mode='lastp', p=30, leaf_rotation=90, leaf_font_size=10.)\n",
    "plt.title(\"Truncated Dendrogram\")\n",
    "plt.xlabel('Cluster size')\n",
    "plt.ylabel('Distance')\n",
    "plt.show()"
   ]
  },
  {
   "cell_type": "markdown",
   "id": "10c4e60f",
   "metadata": {},
   "source": [
    "A clustering of 3-5 segments of customers can be done using *complete linkage*.\n",
    "\n",
    "Clustering of 5 segments seems optimal."
   ]
  },
  {
   "cell_type": "markdown",
   "id": "99407fd7",
   "metadata": {},
   "source": [
    "### *Average Linkage*\n",
    "\n",
    "    For two clusters R and S, first for the distance between any data-point i in R and any data-point j in S and then the arithmetic mean of these distances are calculated. Average Linkage returns this value of the arithmetic mean.\n"
   ]
  },
  {
   "cell_type": "code",
   "execution_count": 12,
   "id": "1502d7d8",
   "metadata": {},
   "outputs": [],
   "source": [
    "#Initialising 'Z' for checking Complete Linkage on 'new_data'\n",
    "Z = linkage(new_data, \"average\")"
   ]
  },
  {
   "cell_type": "code",
   "execution_count": 13,
   "id": "3361c4b8",
   "metadata": {
    "scrolled": true
   },
   "outputs": [
    {
     "data": {
      "image/png": "[encoded data removed]",
      "text/plain": [
       "<Figure size 432x288 with 1 Axes>"
      ]
     },
     "metadata": {
      "needs_background": "light"
     },
     "output_type": "display_data"
    }
   ],
   "source": [
    "#plotting Dendrogram for clustering\n",
    "dendrogram(Z, leaf_rotation=90, leaf_font_size=1.)\n",
    "plt.title(\"Dendrogram\")\n",
    "plt.xlabel('Cluster size')\n",
    "plt.ylabel('Distance')\n",
    "plt.show()"
   ]
  },
  {
   "cell_type": "code",
   "execution_count": 14,
   "id": "e60251da",
   "metadata": {},
   "outputs": [
    {
     "data": {
      "image/png": "[encoded data removed]",
      "text/plain": [
       "<Figure size 432x288 with 1 Axes>"
      ]
     },
     "metadata": {
      "needs_background": "light"
     },
     "output_type": "display_data"
    }
   ],
   "source": [
    "#truncating dendrogram for a cleaner view\n",
    "dendrogram(Z, truncate_mode='lastp', p=30, leaf_rotation=90, leaf_font_size=10.)\n",
    "plt.title(\"Truncated Dendrogram\")\n",
    "plt.xlabel('Cluster size')\n",
    "plt.ylabel('Distance')\n",
    "plt.show()"
   ]
  },
  {
   "cell_type": "markdown",
   "id": "ead2e33d",
   "metadata": {},
   "source": [
    "A clustering of 4-8 segments of customers can be done using *average linkage*."
   ]
  },
  {
   "cell_type": "markdown",
   "id": "d24b4245",
   "metadata": {},
   "source": [
    "### *Single Linkage*\n",
    "\n",
    "    For two clusters R and S, the single linkage returns the minimum distance between two points i and j such that i belongs to R and j belongs to S."
   ]
  },
  {
   "cell_type": "code",
   "execution_count": 15,
   "id": "9c19b3ea",
   "metadata": {},
   "outputs": [],
   "source": [
    "#Initialising 'Z' for checking Complete Linkage on 'new_data'\n",
    "Z = linkage(new_data, \"single\")"
   ]
  },
  {
   "cell_type": "code",
   "execution_count": 16,
   "id": "d0272819",
   "metadata": {},
   "outputs": [
    {
     "data": {
      "image/png": "[encoded data removed]",
      "text/plain": [
       "<Figure size 432x288 with 1 Axes>"
      ]
     },
     "metadata": {
      "needs_background": "light"
     },
     "output_type": "display_data"
    }
   ],
   "source": [
    "#plotting Dendrogram for clustering\n",
    "dendrogram(Z, leaf_rotation=90, leaf_font_size=1.)\n",
    "plt.title(\"Dendrogram\")\n",
    "plt.xlabel('Cluster size')\n",
    "plt.ylabel('Distance')\n",
    "plt.show()"
   ]
  },
  {
   "cell_type": "code",
   "execution_count": 17,
   "id": "fae8be68",
   "metadata": {},
   "outputs": [
    {
     "data": {
      "image/png": "[encoded data removed]",
      "text/plain": [
       "<Figure size 432x288 with 1 Axes>"
      ]
     },
     "metadata": {
      "needs_background": "light"
     },
     "output_type": "display_data"
    }
   ],
   "source": [
    "#truncating dendrogram for a cleaner view\n",
    "dendrogram(Z, truncate_mode='lastp', p=30, leaf_rotation=90, leaf_font_size=10.)\n",
    "plt.title(\"Truncated Dendrogram\")\n",
    "plt.xlabel('Cluster size')\n",
    "plt.ylabel('Distance')\n",
    "plt.show()"
   ]
  },
  {
   "cell_type": "markdown",
   "id": "7579d211",
   "metadata": {},
   "source": [
    "Clustering among customers is not possible with *single linkage*, as it is giving a very complicated Dendrogram."
   ]
  },
  {
   "cell_type": "markdown",
   "id": "99c25e33",
   "metadata": {},
   "source": [
    "# **Model Fitting**"
   ]
  },
  {
   "cell_type": "markdown",
   "id": "5bf29186",
   "metadata": {},
   "source": [
    "## Model 1\n",
    "### Agglomerative Hierarchical Clustering\n",
    "\n",
    "    - It is also known as bottom-up approach or hierarchical agglomerative clustering (HAC).\n",
    "    - This algorithm considers each dataset as a single cluster at the beginning, and then start combining the closest pair of clusters together. It does this until all the clusters are merged into a single cluster that contains all the datasets.\n",
    "    - This hierarchy of clusters is represented in the form of the dendrogram."
   ]
  },
  {
   "cell_type": "markdown",
   "id": "8e1cf96b",
   "metadata": {},
   "source": [
    "### * Using Euclidean distance"
   ]
  },
  {
   "cell_type": "code",
   "execution_count": 51,
   "id": "cf3766d1",
   "metadata": {},
   "outputs": [],
   "source": [
    "#Clustering taken for 5 segments, as obtained from Complete Linkage Dendrogram.\n",
    "hclust = AgglomerativeClustering(n_clusters = 5, affinity='euclidean', linkage = 'complete')"
   ]
  },
  {
   "cell_type": "code",
   "execution_count": 52,
   "id": "6f636b0c",
   "metadata": {},
   "outputs": [
    {
     "data": {
      "text/plain": [
       "AgglomerativeClustering(linkage='complete', n_clusters=5)"
      ]
     },
     "execution_count": 52,
     "metadata": {},
     "output_type": "execute_result"
    }
   ],
   "source": [
    "hclust.fit(new_data)"
   ]
  },
  {
   "cell_type": "code",
   "execution_count": 53,
   "id": "ec465883",
   "metadata": {},
   "outputs": [
    {
     "data": {
      "text/plain": [
       "array([1, 2, 1, 2, 1, 2, 1, 2, 0, 2, 0, 2, 0, 2, 0, 2, 1, 2, 0, 2, 0, 2,\n",
       "       0, 2, 0, 2, 0, 1, 0, 2, 0, 2, 0, 2, 0, 2, 0, 2, 0, 2, 0, 2, 0, 1,\n",
       "       0, 2, 0, 1, 1, 1, 0, 1, 1, 0, 0, 0, 0, 0, 1, 0, 0, 1, 0, 0, 0, 1,\n",
       "       0, 0, 1, 1, 0, 0, 0, 0, 0, 1, 0, 1, 1, 0, 0, 1, 0, 0, 1, 0, 0, 1,\n",
       "       1, 0, 0, 1, 0, 1, 1, 1, 0, 1, 0, 1, 1, 0, 0, 1, 0, 1, 0, 0, 0, 0,\n",
       "       0, 1, 1, 1, 1, 1, 0, 0, 0, 0, 1, 1, 1, 4, 1, 4, 0, 4, 3, 4, 3, 4,\n",
       "       1, 4, 1, 4, 3, 4, 1, 4, 3, 4, 1, 4, 1, 4, 0, 4, 3, 4, 3, 4, 3, 4,\n",
       "       3, 4, 3, 4, 3, 4, 0, 4, 1, 4, 3, 4, 3, 4, 3, 4, 3, 4, 3, 4, 3, 4,\n",
       "       3, 4, 3, 4, 3, 4, 3, 4, 3, 4, 3, 4, 3, 4, 3, 4, 3, 4, 3, 4, 3, 4,\n",
       "       3, 4])"
      ]
     },
     "execution_count": 53,
     "metadata": {},
     "output_type": "execute_result"
    }
   ],
   "source": [
    "#Grouping Data\n",
    "hclust.labels_"
   ]
  },
  {
   "cell_type": "code",
   "execution_count": 54,
   "id": "7c504ad7",
   "metadata": {},
   "outputs": [
    {
     "data": {
      "text/html": [
       "<div>\n",
       "<style scoped>\n",
       "    .dataframe tbody tr th:only-of-type {\n",
       "        vertical-align: middle;\n",
       "    }\n",
       "\n",
       "    .dataframe tbody tr th {\n",
       "        vertical-align: top;\n",
       "    }\n",
       "\n",
       "    .dataframe thead th {\n",
       "        text-align: right;\n",
       "    }\n",
       "</style>\n",
       "<table border=\"1\" class=\"dataframe\">\n",
       "  <thead>\n",
       "    <tr style=\"text-align: right;\">\n",
       "      <th></th>\n",
       "      <th>Gender</th>\n",
       "      <th>Age</th>\n",
       "      <th>Annual Income (k$)</th>\n",
       "      <th>Spending Score (1-100)</th>\n",
       "      <th>Groups</th>\n",
       "    </tr>\n",
       "  </thead>\n",
       "  <tbody>\n",
       "    <tr>\n",
       "      <th>0</th>\n",
       "      <td>Male</td>\n",
       "      <td>19</td>\n",
       "      <td>15</td>\n",
       "      <td>39</td>\n",
       "      <td>1</td>\n",
       "    </tr>\n",
       "    <tr>\n",
       "      <th>1</th>\n",
       "      <td>Male</td>\n",
       "      <td>21</td>\n",
       "      <td>15</td>\n",
       "      <td>81</td>\n",
       "      <td>2</td>\n",
       "    </tr>\n",
       "    <tr>\n",
       "      <th>2</th>\n",
       "      <td>Female</td>\n",
       "      <td>20</td>\n",
       "      <td>16</td>\n",
       "      <td>6</td>\n",
       "      <td>1</td>\n",
       "    </tr>\n",
       "    <tr>\n",
       "      <th>3</th>\n",
       "      <td>Female</td>\n",
       "      <td>23</td>\n",
       "      <td>16</td>\n",
       "      <td>77</td>\n",
       "      <td>2</td>\n",
       "    </tr>\n",
       "    <tr>\n",
       "      <th>4</th>\n",
       "      <td>Female</td>\n",
       "      <td>31</td>\n",
       "      <td>17</td>\n",
       "      <td>40</td>\n",
       "      <td>1</td>\n",
       "    </tr>\n",
       "  </tbody>\n",
       "</table>\n",
       "</div>"
      ],
      "text/plain": [
       "   Gender  Age  Annual Income (k$)  Spending Score (1-100)  Groups\n",
       "0    Male   19                  15                      39       1\n",
       "1    Male   21                  15                      81       2\n",
       "2  Female   20                  16                       6       1\n",
       "3  Female   23                  16                      77       2\n",
       "4  Female   31                  17                      40       1"
      ]
     },
     "execution_count": 54,
     "metadata": {},
     "output_type": "execute_result"
    }
   ],
   "source": [
    "data['Groups'] = hclust.labels_\n",
    "data.head()"
   ]
  },
  {
   "cell_type": "code",
   "execution_count": 55,
   "id": "8ac07715",
   "metadata": {
    "scrolled": false
   },
   "outputs": [
    {
     "data": {
      "text/html": [
       "<div>\n",
       "<style scoped>\n",
       "    .dataframe tbody tr th:only-of-type {\n",
       "        vertical-align: middle;\n",
       "    }\n",
       "\n",
       "    .dataframe tbody tr th {\n",
       "        vertical-align: top;\n",
       "    }\n",
       "\n",
       "    .dataframe thead th {\n",
       "        text-align: right;\n",
       "    }\n",
       "</style>\n",
       "<table border=\"1\" class=\"dataframe\">\n",
       "  <thead>\n",
       "    <tr style=\"text-align: right;\">\n",
       "      <th></th>\n",
       "      <th>Age</th>\n",
       "      <th>Annual Income (k$)</th>\n",
       "      <th>Spending Score (1-100)</th>\n",
       "    </tr>\n",
       "    <tr>\n",
       "      <th>Groups</th>\n",
       "      <th></th>\n",
       "      <th></th>\n",
       "      <th></th>\n",
       "    </tr>\n",
       "  </thead>\n",
       "  <tbody>\n",
       "    <tr>\n",
       "      <th>0</th>\n",
       "      <td>54.078125</td>\n",
       "      <td>47.968750</td>\n",
       "      <td>40.609375</td>\n",
       "    </tr>\n",
       "    <tr>\n",
       "      <th>1</th>\n",
       "      <td>26.750000</td>\n",
       "      <td>53.604167</td>\n",
       "      <td>43.458333</td>\n",
       "    </tr>\n",
       "    <tr>\n",
       "      <th>2</th>\n",
       "      <td>24.809524</td>\n",
       "      <td>25.619048</td>\n",
       "      <td>80.238095</td>\n",
       "    </tr>\n",
       "    <tr>\n",
       "      <th>3</th>\n",
       "      <td>43.892857</td>\n",
       "      <td>91.285714</td>\n",
       "      <td>16.678571</td>\n",
       "    </tr>\n",
       "    <tr>\n",
       "      <th>4</th>\n",
       "      <td>32.692308</td>\n",
       "      <td>86.538462</td>\n",
       "      <td>82.128205</td>\n",
       "    </tr>\n",
       "  </tbody>\n",
       "</table>\n",
       "</div>"
      ],
      "text/plain": [
       "              Age  Annual Income (k$)  Spending Score (1-100)\n",
       "Groups                                                       \n",
       "0       54.078125           47.968750               40.609375\n",
       "1       26.750000           53.604167               43.458333\n",
       "2       24.809524           25.619048               80.238095\n",
       "3       43.892857           91.285714               16.678571\n",
       "4       32.692308           86.538462               82.128205"
      ]
     },
     "execution_count": 55,
     "metadata": {},
     "output_type": "execute_result"
    }
   ],
   "source": [
    "# Checking the aggregate of the groups\n",
    "hac_euc = data.groupby(['Groups']).mean()\n",
    "hac_euc"
   ]
  },
  {
   "cell_type": "code",
   "execution_count": 56,
   "id": "74e4b85c",
   "metadata": {},
   "outputs": [
    {
     "data": {
      "image/png": "[encoded data removed]",
      "text/plain": [
       "<Figure size 432x288 with 1 Axes>"
      ]
     },
     "metadata": {
      "needs_background": "light"
     },
     "output_type": "display_data"
    }
   ],
   "source": [
    "plt.plot(hac_euc)\n",
    "plt.show()"
   ]
  },
  {
   "cell_type": "markdown",
   "id": "4edeb28b",
   "metadata": {},
   "source": [
    "* Silhouette coefficient:\n",
    "    \n",
    "        A silhouette coefficient, or a silhouette score is a metric used to evaluate the quality of clusters created by the algorithm.\n",
    "\n",
    "        Silhouette scores range from -1 to +1. The higher the silhouette score, the better the model.\n",
    "\n",
    "        The silhouette score measures the distance between all the data points within the same cluster. The lower this distance, the better the silhouette score.\n",
    "\n",
    "        It also measures the distance between an object and the data points in the nearest cluster. The higher this distance, the better.\n",
    "\n",
    "        A silhouette score closer to +1 indicates good clustering performance, and a silhouette score closer to -1 indicates a poor clustering model."
   ]
  },
  {
   "cell_type": "code",
   "execution_count": 23,
   "id": "703f2b30",
   "metadata": {
    "scrolled": true
   },
   "outputs": [
    {
     "name": "stdout",
     "output_type": "stream",
     "text": [
      "0.3404764937897312\n"
     ]
    }
   ],
   "source": [
    "# Silhouette coefficient\n",
    "\n",
    "# Building a model with 5 clusters as obtained from Complete Linkage Dendrogram..\n",
    "\n",
    "aglo = AgglomerativeClustering(n_clusters = 5, affinity='euclidean', linkage = 'complete')\n",
    "aglo.fit(new_data)\n",
    "\n",
    "# Now, print the silhouette score of this model\n",
    "\n",
    "print(silhouette_score(new_data, aglo.labels_, metric='euclidean'))"
   ]
  },
  {
   "cell_type": "markdown",
   "id": "03681bbb",
   "metadata": {},
   "source": [
    "The Silhouette score obtained by this model is 0.34. Its not a bad score but lets try to improve it."
   ]
  },
  {
   "cell_type": "markdown",
   "id": "5673bae9",
   "metadata": {},
   "source": [
    "### * Using Cossine similarity"
   ]
  },
  {
   "cell_type": "code",
   "execution_count": 47,
   "id": "c1bf3e43",
   "metadata": {},
   "outputs": [],
   "source": [
    "#Clustering taken for 5 segments, as obtained from Complete Linkage Dendrogram.\n",
    "hclust = AgglomerativeClustering(n_clusters = 4, affinity='cosine', linkage = 'complete')"
   ]
  },
  {
   "cell_type": "code",
   "execution_count": 48,
   "id": "8cee80b1",
   "metadata": {},
   "outputs": [
    {
     "data": {
      "text/plain": [
       "AgglomerativeClustering(affinity='cosine', linkage='complete', n_clusters=4)"
      ]
     },
     "execution_count": 48,
     "metadata": {},
     "output_type": "execute_result"
    }
   ],
   "source": [
    "hclust.fit(new_data)"
   ]
  },
  {
   "cell_type": "code",
   "execution_count": 49,
   "id": "407a9775",
   "metadata": {},
   "outputs": [
    {
     "data": {
      "text/plain": [
       "array([3, 0, 3, 0, 3, 0, 3, 0, 3, 0, 3, 0, 3, 0, 3, 0, 3, 0, 3, 0, 3, 0,\n",
       "       3, 0, 3, 0, 3, 0, 3, 0, 3, 0, 3, 0, 3, 0, 3, 0, 3, 0, 1, 0, 3, 0,\n",
       "       3, 0, 1, 0, 0, 0, 1, 0, 0, 1, 1, 3, 1, 1, 0, 1, 1, 0, 1, 1, 1, 0,\n",
       "       1, 1, 0, 0, 1, 1, 1, 1, 1, 0, 1, 3, 0, 1, 1, 0, 1, 1, 0, 1, 1, 0,\n",
       "       0, 1, 1, 0, 1, 0, 0, 0, 1, 0, 1, 0, 0, 1, 1, 0, 1, 0, 1, 1, 1, 1,\n",
       "       1, 0, 0, 0, 0, 0, 1, 1, 1, 1, 0, 0, 0, 0, 0, 0, 2, 0, 1, 0, 2, 0,\n",
       "       0, 0, 2, 0, 1, 0, 2, 0, 1, 0, 0, 0, 2, 0, 1, 0, 2, 0, 2, 0, 1, 0,\n",
       "       1, 0, 2, 0, 2, 0, 1, 0, 2, 0, 1, 0, 2, 0, 2, 0, 2, 0, 2, 0, 1, 0,\n",
       "       1, 0, 1, 0, 2, 0, 2, 0, 2, 0, 1, 0, 2, 0, 2, 0, 2, 0, 2, 0, 2, 0,\n",
       "       2, 0])"
      ]
     },
     "execution_count": 49,
     "metadata": {},
     "output_type": "execute_result"
    }
   ],
   "source": [
    "#Grouping Data\n",
    "hclust.labels_"
   ]
  },
  {
   "cell_type": "code",
   "execution_count": 50,
   "id": "4f8aae20",
   "metadata": {},
   "outputs": [
    {
     "data": {
      "text/html": [
       "<div>\n",
       "<style scoped>\n",
       "    .dataframe tbody tr th:only-of-type {\n",
       "        vertical-align: middle;\n",
       "    }\n",
       "\n",
       "    .dataframe tbody tr th {\n",
       "        vertical-align: top;\n",
       "    }\n",
       "\n",
       "    .dataframe thead th {\n",
       "        text-align: right;\n",
       "    }\n",
       "</style>\n",
       "<table border=\"1\" class=\"dataframe\">\n",
       "  <thead>\n",
       "    <tr style=\"text-align: right;\">\n",
       "      <th></th>\n",
       "      <th>Gender</th>\n",
       "      <th>Age</th>\n",
       "      <th>Annual Income (k$)</th>\n",
       "      <th>Spending Score (1-100)</th>\n",
       "      <th>Groups</th>\n",
       "    </tr>\n",
       "  </thead>\n",
       "  <tbody>\n",
       "    <tr>\n",
       "      <th>0</th>\n",
       "      <td>Male</td>\n",
       "      <td>19</td>\n",
       "      <td>15</td>\n",
       "      <td>39</td>\n",
       "      <td>3</td>\n",
       "    </tr>\n",
       "    <tr>\n",
       "      <th>1</th>\n",
       "      <td>Male</td>\n",
       "      <td>21</td>\n",
       "      <td>15</td>\n",
       "      <td>81</td>\n",
       "      <td>0</td>\n",
       "    </tr>\n",
       "    <tr>\n",
       "      <th>2</th>\n",
       "      <td>Female</td>\n",
       "      <td>20</td>\n",
       "      <td>16</td>\n",
       "      <td>6</td>\n",
       "      <td>3</td>\n",
       "    </tr>\n",
       "    <tr>\n",
       "      <th>3</th>\n",
       "      <td>Female</td>\n",
       "      <td>23</td>\n",
       "      <td>16</td>\n",
       "      <td>77</td>\n",
       "      <td>0</td>\n",
       "    </tr>\n",
       "    <tr>\n",
       "      <th>4</th>\n",
       "      <td>Female</td>\n",
       "      <td>31</td>\n",
       "      <td>17</td>\n",
       "      <td>40</td>\n",
       "      <td>3</td>\n",
       "    </tr>\n",
       "  </tbody>\n",
       "</table>\n",
       "</div>"
      ],
      "text/plain": [
       "   Gender  Age  Annual Income (k$)  Spending Score (1-100)  Groups\n",
       "0    Male   19                  15                      39       3\n",
       "1    Male   21                  15                      81       0\n",
       "2  Female   20                  16                       6       3\n",
       "3  Female   23                  16                      77       0\n",
       "4  Female   31                  17                      40       3"
      ]
     },
     "execution_count": 50,
     "metadata": {},
     "output_type": "execute_result"
    }
   ],
   "source": [
    "data['Groups'] = hclust.labels_\n",
    "data.head()"
   ]
  },
  {
   "cell_type": "code",
   "execution_count": 51,
   "id": "40e01bf8",
   "metadata": {},
   "outputs": [
    {
     "data": {
      "text/html": [
       "<div>\n",
       "<style scoped>\n",
       "    .dataframe tbody tr th:only-of-type {\n",
       "        vertical-align: middle;\n",
       "    }\n",
       "\n",
       "    .dataframe tbody tr th {\n",
       "        vertical-align: top;\n",
       "    }\n",
       "\n",
       "    .dataframe thead th {\n",
       "        text-align: right;\n",
       "    }\n",
       "</style>\n",
       "<table border=\"1\" class=\"dataframe\">\n",
       "  <thead>\n",
       "    <tr style=\"text-align: right;\">\n",
       "      <th></th>\n",
       "      <th>Age</th>\n",
       "      <th>Annual Income (k$)</th>\n",
       "      <th>Spending Score (1-100)</th>\n",
       "    </tr>\n",
       "    <tr>\n",
       "      <th>Groups</th>\n",
       "      <th></th>\n",
       "      <th></th>\n",
       "      <th></th>\n",
       "    </tr>\n",
       "  </thead>\n",
       "  <tbody>\n",
       "    <tr>\n",
       "      <th>0</th>\n",
       "      <td>28.744898</td>\n",
       "      <td>61.632653</td>\n",
       "      <td>69.061224</td>\n",
       "    </tr>\n",
       "    <tr>\n",
       "      <th>1</th>\n",
       "      <td>55.636364</td>\n",
       "      <td>60.109091</td>\n",
       "      <td>42.800000</td>\n",
       "    </tr>\n",
       "    <tr>\n",
       "      <th>2</th>\n",
       "      <td>36.130435</td>\n",
       "      <td>91.391304</td>\n",
       "      <td>16.652174</td>\n",
       "    </tr>\n",
       "    <tr>\n",
       "      <th>3</th>\n",
       "      <td>44.250000</td>\n",
       "      <td>27.666667</td>\n",
       "      <td>22.291667</td>\n",
       "    </tr>\n",
       "  </tbody>\n",
       "</table>\n",
       "</div>"
      ],
      "text/plain": [
       "              Age  Annual Income (k$)  Spending Score (1-100)\n",
       "Groups                                                       \n",
       "0       28.744898           61.632653               69.061224\n",
       "1       55.636364           60.109091               42.800000\n",
       "2       36.130435           91.391304               16.652174\n",
       "3       44.250000           27.666667               22.291667"
      ]
     },
     "execution_count": 51,
     "metadata": {},
     "output_type": "execute_result"
    }
   ],
   "source": [
    "# Checking the aggregate of the groups\n",
    "hac_cosine = data.groupby(['Groups']).mean()\n",
    "hac_cosine"
   ]
  },
  {
   "cell_type": "code",
   "execution_count": 52,
   "id": "ce7d4605",
   "metadata": {},
   "outputs": [
    {
     "data": {
      "image/png": "[encoded data removed]",
      "text/plain": [
       "<Figure size 432x288 with 1 Axes>"
      ]
     },
     "metadata": {
      "needs_background": "light"
     },
     "output_type": "display_data"
    }
   ],
   "source": [
    "plt.plot(hac_cosine)\n",
    "plt.show()"
   ]
  },
  {
   "cell_type": "code",
   "execution_count": 53,
   "id": "d2f4e559",
   "metadata": {},
   "outputs": [
    {
     "name": "stdout",
     "output_type": "stream",
     "text": [
      "0.31547941765644727\n"
     ]
    }
   ],
   "source": [
    "# Silhouette coefficient\n",
    "\n",
    "# Building a model with 5 clusters as obtained from Complete Linkage Dendrogram..\n",
    "\n",
    "aglo = AgglomerativeClustering(n_clusters = 5, affinity='cosine', linkage = 'complete')\n",
    "aglo.fit(new_data)\n",
    "\n",
    "# Now, print the silhouette score of this model\n",
    "\n",
    "print(silhouette_score(new_data, aglo.labels_, metric='euclidean'))"
   ]
  },
  {
   "cell_type": "markdown",
   "id": "7cd04cc0",
   "metadata": {},
   "source": [
    "* Since, the more the silhouette score the better. Therefore, we will continue to use Euclidean Distance for clustering."
   ]
  },
  {
   "cell_type": "markdown",
   "id": "972e50bd",
   "metadata": {},
   "source": [
    "## Model 2\n",
    "### K-Means Clustering\n",
    "    \n",
    "    - K-Means Clustering is an unsupervised learning algorithm.\n",
    "    - It groups the unlabeled dataset into different clusters. Here K defines the number of pre-defined clusters that need to be created in the process, as if K=2, there will be two clusters, and for K=3, there will be three clusters, and so on.\n",
    "    -It allows us to cluster the data into different groups and a convenient way to discover the categories of groups in the unlabeled dataset on its own without the need for any training.\n",
    "    -It is a centroid-based algorithm, where each cluster is associated with a centroid. The main aim of this algorithm is to minimize the sum of distances between the data point and their corresponding clusters."
   ]
  },
  {
   "cell_type": "code",
   "execution_count": 24,
   "id": "b6fd83ee",
   "metadata": {
    "scrolled": true
   },
   "outputs": [
    {
     "data": {
      "text/plain": [
       "Text(0, 0.5, 'Inertia')"
      ]
     },
     "execution_count": 24,
     "metadata": {},
     "output_type": "execute_result"
    },
    {
     "data": {
      "image/png": "[encoded data removed]",
      "text/plain": [
       "<Figure size 864x432 with 1 Axes>"
      ]
     },
     "metadata": {
      "needs_background": "light"
     },
     "output_type": "display_data"
    }
   ],
   "source": [
    "SSE = []\n",
    "\n",
    "for cluster in range(1,10):\n",
    "    kmeans = KMeans(n_jobs = -1, n_clusters = cluster, init='k-means++')\n",
    "    kmeans.fit(new_data)\n",
    "    SSE.append(kmeans.inertia_)\n",
    "\n",
    "# converting the results into a dataframe and plotting them\n",
    "\n",
    "frame = pd.DataFrame({'Cluster':range(1,10), 'SSE':SSE})\n",
    "plt.figure(figsize=(12,6))\n",
    "plt.plot(frame['Cluster'], frame['SSE'], marker='o')\n",
    "plt.xlabel('Number of clusters')\n",
    "plt.ylabel('Inertia')"
   ]
  },
  {
   "cell_type": "markdown",
   "id": "018e5e75",
   "metadata": {},
   "source": [
    "* The optimal number of clusters seems to be 4."
   ]
  },
  {
   "cell_type": "code",
   "execution_count": 25,
   "id": "5da7e715",
   "metadata": {},
   "outputs": [
    {
     "name": "stdout",
     "output_type": "stream",
     "text": [
      "0.35027020434653977\n"
     ]
    }
   ],
   "source": [
    "# Building a model with 4 clusters since we got the optimal number of clusters at 4.\n",
    "\n",
    "kmeans = KMeans(n_jobs = -1, n_clusters = 4, init='k-means++')\n",
    "kmeans.fit(new_data)\n",
    "\n",
    "# Now, print the silhouette score of this model\n",
    "\n",
    "print(silhouette_score(new_data, kmeans.labels_, metric='euclidean'))"
   ]
  },
  {
   "cell_type": "markdown",
   "id": "6948dee0",
   "metadata": {},
   "source": [
    "* The Silhouette score obtained by this model is 0.35. A slightly better score can be seen when compared to Agglomorerative Clustering(0.34).\n",
    "\n",
    "* Little improvement in the model."
   ]
  },
  {
   "cell_type": "markdown",
   "id": "030ba407",
   "metadata": {},
   "source": [
    "## Model 3\n",
    "### Prinipal Component Analysis and K-Means"
   ]
  },
  {
   "cell_type": "markdown",
   "id": "3ebe65cf",
   "metadata": {},
   "source": [
    "* PCA is a technique that helps us reduce the dimension of a dataset. When we run PCA on a data frame, new components are created. These components explain the maximum variance in the model.\n",
    "\n",
    "* We can select a subset of these variables and include them into the K-means model."
   ]
  },
  {
   "cell_type": "code",
   "execution_count": 27,
   "id": "1c41356a",
   "metadata": {},
   "outputs": [
    {
     "data": {
      "image/png": "[encoded data removed]",
      "text/plain": [
       "<Figure size 432x288 with 1 Axes>"
      ]
     },
     "metadata": {
      "needs_background": "light"
     },
     "output_type": "display_data"
    }
   ],
   "source": [
    "pca = PCA(n_components=4)\n",
    "principalComponents = pca.fit_transform(new_data)\n",
    "\n",
    "features = range(pca.n_components_)\n",
    "plt.bar(features, pca.explained_variance_ratio_, color='Turquoise', edgecolor = \"purple\")\n",
    "plt.xlabel('PCA features')\n",
    "plt.ylabel('variance %')\n",
    "plt.xticks(features)\n",
    "\n",
    "PCA_components = pd.DataFrame(principalComponents)"
   ]
  },
  {
   "cell_type": "markdown",
   "id": "943b6106",
   "metadata": {},
   "source": [
    "This chart shows us each PCA component, along with it variance.\n",
    "\n",
    "Based on this visualization, we can see that the first two PCA components explain around 70% of the dataset variance.\n",
    "\n",
    "We can feed these two components into the model.\n",
    "\n",
    "Lets build the model again with the first two principal components, and decide on the number of clusters to use."
   ]
  },
  {
   "cell_type": "code",
   "execution_count": 28,
   "id": "56216bd5",
   "metadata": {},
   "outputs": [
    {
     "data": {
      "image/png": "[encoded data removed]",
      "text/plain": [
       "<Figure size 432x288 with 1 Axes>"
      ]
     },
     "metadata": {
      "needs_background": "light"
     },
     "output_type": "display_data"
    }
   ],
   "source": [
    "ks = range(1, 10)\n",
    "inertias = []\n",
    "\n",
    "for k in ks:\n",
    "    model = KMeans(n_clusters=k)\n",
    "    model.fit(PCA_components.iloc[:,:2])\n",
    "    inertias.append(model.inertia_)\n",
    "\n",
    "plt.plot(ks, inertias, '-o', color='blue')\n",
    "plt.xlabel('number of clusters, k')\n",
    "plt.ylabel('inertia')\n",
    "plt.xticks(ks)\n",
    "plt.show()"
   ]
  },
  {
   "cell_type": "markdown",
   "id": "6e6468ca",
   "metadata": {},
   "source": [
    "* It looks like optimal number of clusters is 4, again."
   ]
  },
  {
   "cell_type": "code",
   "execution_count": 30,
   "id": "4c255225",
   "metadata": {},
   "outputs": [
    {
     "name": "stdout",
     "output_type": "stream",
     "text": [
      "0.42177622653948804\n"
     ]
    }
   ],
   "source": [
    "model = KMeans(n_clusters=4)\n",
    "model.fit(PCA_components.iloc[:,:2])\n",
    "\n",
    "# silhouette score\n",
    "print(silhouette_score(PCA_components.iloc[:,:2], model.labels_, metric='euclidean')) "
   ]
  },
  {
   "cell_type": "markdown",
   "id": "2d00363c",
   "metadata": {},
   "source": [
    "* The silhouette score for model 3 is 0.42, which is best score yet, compared to previous models.\n",
    "\n",
    "* Best performing model."
   ]
  },
  {
   "cell_type": "markdown",
   "id": "ef148261",
   "metadata": {},
   "source": [
    "# Cluster Analysis"
   ]
  },
  {
   "cell_type": "code",
   "execution_count": 31,
   "id": "684ffd87",
   "metadata": {},
   "outputs": [
    {
     "data": {
      "text/html": [
       "<div>\n",
       "<style scoped>\n",
       "    .dataframe tbody tr th:only-of-type {\n",
       "        vertical-align: middle;\n",
       "    }\n",
       "\n",
       "    .dataframe tbody tr th {\n",
       "        vertical-align: top;\n",
       "    }\n",
       "\n",
       "    .dataframe thead th {\n",
       "        text-align: right;\n",
       "    }\n",
       "</style>\n",
       "<table border=\"1\" class=\"dataframe\">\n",
       "  <thead>\n",
       "    <tr style=\"text-align: right;\">\n",
       "      <th></th>\n",
       "      <th>Gender</th>\n",
       "      <th>Age</th>\n",
       "      <th>Annual Income (k$)</th>\n",
       "      <th>Spending Score (1-100)</th>\n",
       "      <th>cluster</th>\n",
       "    </tr>\n",
       "  </thead>\n",
       "  <tbody>\n",
       "    <tr>\n",
       "      <th>0</th>\n",
       "      <td>Male</td>\n",
       "      <td>19</td>\n",
       "      <td>15</td>\n",
       "      <td>39</td>\n",
       "      <td>0</td>\n",
       "    </tr>\n",
       "    <tr>\n",
       "      <th>1</th>\n",
       "      <td>Male</td>\n",
       "      <td>21</td>\n",
       "      <td>15</td>\n",
       "      <td>81</td>\n",
       "      <td>0</td>\n",
       "    </tr>\n",
       "    <tr>\n",
       "      <th>2</th>\n",
       "      <td>Female</td>\n",
       "      <td>20</td>\n",
       "      <td>16</td>\n",
       "      <td>6</td>\n",
       "      <td>3</td>\n",
       "    </tr>\n",
       "    <tr>\n",
       "      <th>3</th>\n",
       "      <td>Female</td>\n",
       "      <td>23</td>\n",
       "      <td>16</td>\n",
       "      <td>77</td>\n",
       "      <td>0</td>\n",
       "    </tr>\n",
       "    <tr>\n",
       "      <th>4</th>\n",
       "      <td>Female</td>\n",
       "      <td>31</td>\n",
       "      <td>17</td>\n",
       "      <td>40</td>\n",
       "      <td>0</td>\n",
       "    </tr>\n",
       "  </tbody>\n",
       "</table>\n",
       "</div>"
      ],
      "text/plain": [
       "   Gender  Age  Annual Income (k$)  Spending Score (1-100)  cluster\n",
       "0    Male   19                  15                      39        0\n",
       "1    Male   21                  15                      81        0\n",
       "2  Female   20                  16                       6        3\n",
       "3  Female   23                  16                      77        0\n",
       "4  Female   31                  17                      40        0"
      ]
     },
     "execution_count": 31,
     "metadata": {},
     "output_type": "execute_result"
    }
   ],
   "source": [
    "data = pd.read_csv(\"/Users/pranavsmac/Documents/Jupyter Notebook/Dataset/Mall_Customers.csv\")\n",
    "data = data.drop(['CustomerID'],axis=1)\n",
    "\n",
    "# map back clusters to dataframe\n",
    "\n",
    "pred = model.predict(PCA_components.iloc[:,:2])\n",
    "frame = pd.DataFrame(data)\n",
    "frame['cluster'] = pred\n",
    "frame.head()"
   ]
  },
  {
   "cell_type": "markdown",
   "id": "3534d428",
   "metadata": {},
   "source": [
    "* Notice that each row in the data frame is now assigned to a cluster."
   ]
  },
  {
   "cell_type": "code",
   "execution_count": 32,
   "id": "eb8484af",
   "metadata": {},
   "outputs": [
    {
     "data": {
      "text/html": [
       "<div>\n",
       "<style scoped>\n",
       "    .dataframe tbody tr th:only-of-type {\n",
       "        vertical-align: middle;\n",
       "    }\n",
       "\n",
       "    .dataframe tbody tr th {\n",
       "        vertical-align: top;\n",
       "    }\n",
       "\n",
       "    .dataframe thead th {\n",
       "        text-align: right;\n",
       "    }\n",
       "</style>\n",
       "<table border=\"1\" class=\"dataframe\">\n",
       "  <thead>\n",
       "    <tr style=\"text-align: right;\">\n",
       "      <th></th>\n",
       "      <th>cluster</th>\n",
       "      <th>Age</th>\n",
       "      <th>Annual Income (k$)</th>\n",
       "      <th>Spending Score (1-100)</th>\n",
       "    </tr>\n",
       "  </thead>\n",
       "  <tbody>\n",
       "    <tr>\n",
       "      <th>0</th>\n",
       "      <td>0</td>\n",
       "      <td>25.605263</td>\n",
       "      <td>32.631579</td>\n",
       "      <td>67.500000</td>\n",
       "    </tr>\n",
       "    <tr>\n",
       "      <th>1</th>\n",
       "      <td>1</td>\n",
       "      <td>41.685714</td>\n",
       "      <td>88.228571</td>\n",
       "      <td>17.285714</td>\n",
       "    </tr>\n",
       "    <tr>\n",
       "      <th>2</th>\n",
       "      <td>2</td>\n",
       "      <td>30.000000</td>\n",
       "      <td>79.086207</td>\n",
       "      <td>70.775862</td>\n",
       "    </tr>\n",
       "    <tr>\n",
       "      <th>3</th>\n",
       "      <td>3</td>\n",
       "      <td>52.144928</td>\n",
       "      <td>46.333333</td>\n",
       "      <td>40.072464</td>\n",
       "    </tr>\n",
       "  </tbody>\n",
       "</table>\n",
       "</div>"
      ],
      "text/plain": [
       "   cluster        Age  Annual Income (k$)  Spending Score (1-100)\n",
       "0        0  25.605263           32.631579               67.500000\n",
       "1        1  41.685714           88.228571               17.285714\n",
       "2        2  30.000000           79.086207               70.775862\n",
       "3        3  52.144928           46.333333               40.072464"
      ]
     },
     "execution_count": 32,
     "metadata": {},
     "output_type": "execute_result"
    }
   ],
   "source": [
    "# Now, to compare attributes of the different clusters, \n",
    "#lets find the average of all variables across each cluster.\n",
    "avg_data = data.groupby(['cluster'], as_index=False).mean()\n",
    "avg_data"
   ]
  },
  {
   "cell_type": "code",
   "execution_count": 33,
   "id": "68891032",
   "metadata": {},
   "outputs": [
    {
     "name": "stdout",
     "output_type": "stream",
     "text": [
      "Age vs Spending Score vs Annual Income\n"
     ]
    },
    {
     "data": {
      "image/png": "[encoded data removed]",
      "text/plain": [
       "<Figure size 432x288 with 1 Axes>"
      ]
     },
     "metadata": {
      "needs_background": "light"
     },
     "output_type": "display_data"
    },
    {
     "data": {
      "image/png": "[encoded data removed]",
      "text/plain": [
       "<Figure size 432x288 with 1 Axes>"
      ]
     },
     "metadata": {
      "needs_background": "light"
     },
     "output_type": "display_data"
    },
    {
     "data": {
      "image/png": "[encoded data removed]",
      "text/plain": [
       "<Figure size 432x288 with 1 Axes>"
      ]
     },
     "metadata": {
      "needs_background": "light"
     },
     "output_type": "display_data"
    }
   ],
   "source": [
    "# Visualising clusters fpr interpreting it\n",
    "print(\"Age vs Spending Score vs Annual Income\")\n",
    "sns.barplot(x='cluster',y='Age',data=avg_data)\n",
    "plt.show()\n",
    "sns.barplot(x='cluster',y='Spending Score (1-100)',data=avg_data)\n",
    "plt.show()\n",
    "sns.barplot(x='cluster',y='Annual Income (k$)',data=avg_data)\n",
    "plt.show()"
   ]
  },
  {
   "cell_type": "code",
   "execution_count": 34,
   "id": "900c5dbd",
   "metadata": {},
   "outputs": [
    {
     "data": {
      "text/html": [
       "<div>\n",
       "<style scoped>\n",
       "    .dataframe tbody tr th:only-of-type {\n",
       "        vertical-align: middle;\n",
       "    }\n",
       "\n",
       "    .dataframe tbody tr th {\n",
       "        vertical-align: top;\n",
       "    }\n",
       "\n",
       "    .dataframe thead th {\n",
       "        text-align: right;\n",
       "    }\n",
       "</style>\n",
       "<table border=\"1\" class=\"dataframe\">\n",
       "  <thead>\n",
       "    <tr style=\"text-align: right;\">\n",
       "      <th></th>\n",
       "      <th></th>\n",
       "      <th>Gender</th>\n",
       "    </tr>\n",
       "    <tr>\n",
       "      <th>cluster</th>\n",
       "      <th>Gender</th>\n",
       "      <th></th>\n",
       "    </tr>\n",
       "  </thead>\n",
       "  <tbody>\n",
       "    <tr>\n",
       "      <th rowspan=\"2\" valign=\"top\">0</th>\n",
       "      <th>Female</th>\n",
       "      <td>23</td>\n",
       "    </tr>\n",
       "    <tr>\n",
       "      <th>Male</th>\n",
       "      <td>15</td>\n",
       "    </tr>\n",
       "    <tr>\n",
       "      <th rowspan=\"2\" valign=\"top\">1</th>\n",
       "      <th>Female</th>\n",
       "      <td>15</td>\n",
       "    </tr>\n",
       "    <tr>\n",
       "      <th>Male</th>\n",
       "      <td>20</td>\n",
       "    </tr>\n",
       "    <tr>\n",
       "      <th rowspan=\"2\" valign=\"top\">2</th>\n",
       "      <th>Female</th>\n",
       "      <td>34</td>\n",
       "    </tr>\n",
       "    <tr>\n",
       "      <th>Male</th>\n",
       "      <td>24</td>\n",
       "    </tr>\n",
       "    <tr>\n",
       "      <th rowspan=\"2\" valign=\"top\">3</th>\n",
       "      <th>Female</th>\n",
       "      <td>40</td>\n",
       "    </tr>\n",
       "    <tr>\n",
       "      <th>Male</th>\n",
       "      <td>29</td>\n",
       "    </tr>\n",
       "  </tbody>\n",
       "</table>\n",
       "</div>"
      ],
      "text/plain": [
       "                Gender\n",
       "cluster Gender        \n",
       "0       Female      23\n",
       "        Male        15\n",
       "1       Female      15\n",
       "        Male        20\n",
       "2       Female      34\n",
       "        Male        24\n",
       "3       Female      40\n",
       "        Male        29"
      ]
     },
     "execution_count": 34,
     "metadata": {},
     "output_type": "execute_result"
    }
   ],
   "source": [
    "# Gender breakdown\n",
    "data2 = pd.DataFrame(data.groupby(['cluster','Gender'])['Gender'].count())\n",
    "data2"
   ]
  },
  {
   "cell_type": "markdown",
   "id": "5ee1e3d3",
   "metadata": {},
   "source": [
    "Cluster 0:\n",
    "\n",
    "    Low average income, high spending score.\n",
    "\n",
    "    Mean age is around 25 and gender is predominantly female.\n",
    "\n",
    "    This segment is made up of a younger age group.\n",
    "\n",
    "    Individuals in this segment are most likely first jobbers. They make the least amount of money compared to all other segments.\n",
    "\n",
    "    However, they are very high spenders.\n",
    "\n",
    "    These are enthusiastic young individuals who enjoy living a good lifestyle, and tend to spend above their means.\n",
    "\n",
    "    Recommendation: Since these are young individuals who spend a lot, providing them with travel coupons or hotel discounts might be a good idea. Providing them with discounts off top clothing and makeup brands would also work well for this segment."
   ]
  },
  {
   "cell_type": "markdown",
   "id": "923a7cc0",
   "metadata": {},
   "source": [
    "Cluster 1:\n",
    "\n",
    "    High average annual income, low spending.\n",
    "\n",
    "    Mean age is around 40 and gender is predominantly male.\n",
    "\n",
    "    This segment comprises of middle aged individuals who are very careful with money.\n",
    "\n",
    "    Despite having the highest average income compared to individuals in all other clusters, they spend the least.\n",
    "\n",
    "    This might be because they have financial responsibilities - like saving up for their kid's higher education.\n",
    "\n",
    "    Recommendation: Promos, coupons, and discount codes will attract individuals in this segment due to their tendency to spend less."
   ]
  },
  {
   "cell_type": "markdown",
   "id": "41695516",
   "metadata": {},
   "source": [
    "Cluster 2:\n",
    "\n",
    "    High average income, high spending score.\n",
    "\n",
    "    Mean age is around 30 and gender is predominantly female.\n",
    "\n",
    "    This segment is made up of middle-aged individuals.\n",
    "\n",
    "    These are individuals who have worked hard to build up a significant amount of wealth.\n",
    "\n",
    "    They also spend large amounts of money to live a good lifestyle.\n",
    "\n",
    "    These individuals have likely just started a family, and are leading baby or family-focused lifestyles. It is a good idea to promote baby or child related products to these individuals.\n",
    "\n",
    "    Recommendation: Due to their large spending capacity and their demographic, these individuals are likely to be looking for properties to buy or invest in. They are also more likely than all other segments to take out housing loans and make serious financial commitments."
   ]
  },
  {
   "cell_type": "markdown",
   "id": "7030e2af",
   "metadata": {},
   "source": [
    "Cluster 3:\n",
    "\n",
    "    Low to mid average income, average spending capacity.\n",
    "\n",
    "    Mean age is around 50 and gender is predominantly female.\n",
    "\n",
    "    This segment comprises of an older group of people.\n",
    "\n",
    "    They earn less and spend less, and are probably saving up for retirement.\n",
    "\n",
    "    Recommendation: Marketing to these individuals can be done through Facebook, which appeals to an older demographic. Promote healthcare related products to people in this segment."
   ]
  },
  {
   "cell_type": "markdown",
   "id": "2e6c0bc2",
   "metadata": {},
   "source": [
    "# ***THE END***\n",
    "\n",
    "                                   X----X----X"
   ]
  }
 ],
 "metadata": {
  "kernelspec": {
   "display_name": "Python 3 (ipykernel)",
   "language": "python",
   "name": "python3"
  },
  "language_info": {
   "codemirror_mode": {
    "name": "ipython",
    "version": 3
   },
   "file_extension": ".py",
   "mimetype": "text/x-python",
   "name": "python",
   "nbconvert_exporter": "python",
   "pygments_lexer": "ipython3",
   "version": "3.9.7"
  }
 },
 "nbformat": 4,
 "nbformat_minor": 5
}
