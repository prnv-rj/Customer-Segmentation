{
  "cells": [
    {
      "cell_type": "markdown",
      "id": "6656d4a3",
      "metadata": {
        "id": "6656d4a3"
      },
      "source": [
        "## A project on Customer Segmentation by: **Pranav Raj**"
      ]
    },
    {
      "cell_type": "markdown",
      "id": "54cd15c1",
      "metadata": {
        "id": "54cd15c1"
      },
      "source": [
        "# Importing libraries "
      ]
    },
    {
      "cell_type": "code",
      "execution_count": null,
      "id": "8df73620",
      "metadata": {
        "id": "8df73620"
      },
      "outputs": [],
      "source": [
        "import numpy as np \n",
        "import pandas as pd\n",
        "import matplotlib.pyplot as plt\n",
        "import seaborn as sns       #for making statistical graphics\n",
        "import os\n",
        "from kneed import KneeLocator\n",
        "from sklearn.datasets import make_blobs\n",
        "\n",
        "#K-Means and Silhouette score\n",
        "from sklearn.cluster import KMeans\n",
        "from sklearn.metrics import silhouette_score\n",
        "\n",
        "#Standardisation\n",
        "from sklearn.preprocessing import StandardScaler\n",
        "\n",
        "#PCA\n",
        "from sklearn.decomposition import PCA\n",
        "from mpl_toolkits.mplot3d import Axes3D\n",
        "\n",
        "#Warnings\n",
        "import warnings\n",
        "warnings.filterwarnings(\"ignore\")\n",
        "\n",
        "# Dendogram and Linkage\n",
        "import scipy\n",
        "from scipy.cluster.hierarchy import dendrogram, linkage\n",
        "\n",
        "# Agglomorerative Hierarchical Clustering\n",
        "import sklearn\n",
        "from sklearn.cluster import AgglomerativeClustering"
      ]
    },
    {
      "cell_type": "markdown",
      "source": [
        "##Introduction\n",
        "Customer segmentation is important for businesses to understand their target audience.\n",
        "\n",
        "Different advertisements can be curated and sent to different audience segments based on their demographic profile, interests, and affluence level.\n",
        "\n",
        "A segment based approach can be taken to improve the business."
      ],
      "metadata": {
        "id": "wceZ-HjtcWU5"
      },
      "id": "wceZ-HjtcWU5"
    },
    {
      "cell_type": "markdown",
      "id": "4fe6ce53",
      "metadata": {
        "id": "4fe6ce53"
      },
      "source": [
        "## Importing and reading the dataset"
      ]
    },
    {
      "cell_type": "code",
      "execution_count": null,
      "id": "a4f63230",
      "metadata": {
        "id": "a4f63230",
        "outputId": "e103daca-0e83-48ed-9cca-2b45b9a55c7d"
      },
      "outputs": [
        {
          "data": {
            "text/html": [
              "<div>\n",
              "<style scoped>\n",
              "    .dataframe tbody tr th:only-of-type {\n",
              "        vertical-align: middle;\n",
              "    }\n",
              "\n",
              "    .dataframe tbody tr th {\n",
              "        vertical-align: top;\n",
              "    }\n",
              "\n",
              "    .dataframe thead th {\n",
              "        text-align: right;\n",
              "    }\n",
              "</style>\n",
              "<table border=\"1\" class=\"dataframe\">\n",
              "  <thead>\n",
              "    <tr style=\"text-align: right;\">\n",
              "      <th></th>\n",
              "      <th>CustomerID</th>\n",
              "      <th>Gender</th>\n",
              "      <th>Age</th>\n",
              "      <th>Annual Income (k$)</th>\n",
              "      <th>Spending Score (1-100)</th>\n",
              "    </tr>\n",
              "  </thead>\n",
              "  <tbody>\n",
              "    <tr>\n",
              "      <th>0</th>\n",
              "      <td>1</td>\n",
              "      <td>Male</td>\n",
              "      <td>19</td>\n",
              "      <td>15</td>\n",
              "      <td>39</td>\n",
              "    </tr>\n",
              "    <tr>\n",
              "      <th>1</th>\n",
              "      <td>2</td>\n",
              "      <td>Male</td>\n",
              "      <td>21</td>\n",
              "      <td>15</td>\n",
              "      <td>81</td>\n",
              "    </tr>\n",
              "    <tr>\n",
              "      <th>2</th>\n",
              "      <td>3</td>\n",
              "      <td>Female</td>\n",
              "      <td>20</td>\n",
              "      <td>16</td>\n",
              "      <td>6</td>\n",
              "    </tr>\n",
              "    <tr>\n",
              "      <th>3</th>\n",
              "      <td>4</td>\n",
              "      <td>Female</td>\n",
              "      <td>23</td>\n",
              "      <td>16</td>\n",
              "      <td>77</td>\n",
              "    </tr>\n",
              "    <tr>\n",
              "      <th>4</th>\n",
              "      <td>5</td>\n",
              "      <td>Female</td>\n",
              "      <td>31</td>\n",
              "      <td>17</td>\n",
              "      <td>40</td>\n",
              "    </tr>\n",
              "  </tbody>\n",
              "</table>\n",
              "</div>"
            ],
            "text/plain": [
              "   CustomerID  Gender  Age  Annual Income (k$)  Spending Score (1-100)\n",
              "0           1    Male   19                  15                      39\n",
              "1           2    Male   21                  15                      81\n",
              "2           3  Female   20                  16                       6\n",
              "3           4  Female   23                  16                      77\n",
              "4           5  Female   31                  17                      40"
            ]
          },
          "execution_count": 2,
          "metadata": {},
          "output_type": "execute_result"
        }
      ],
      "source": [
        "data = pd.read_csv(\"/Users/pranavsmac/Documents/Jupyter Notebook/Dataset/Mall_Customers.csv\")\n",
        "data.head()"
      ]
    },
    {
      "cell_type": "markdown",
      "source": [
        "Here we have a dataset which comprises observations of different customers which might have visited recently to that mall."
      ],
      "metadata": {
        "id": "TYefAFgGcgDv"
      },
      "id": "TYefAFgGcgDv"
    },
    {
      "cell_type": "code",
      "execution_count": null,
      "id": "e151f59f",
      "metadata": {
        "id": "e151f59f",
        "outputId": "33019dcd-d3c1-4ede-8ab7-63d48a1c12ca"
      },
      "outputs": [
        {
          "data": {
            "text/plain": [
              "(200, 5)"
            ]
          },
          "execution_count": 3,
          "metadata": {},
          "output_type": "execute_result"
        }
      ],
      "source": [
        "data.shape"
      ]
    },
    {
      "cell_type": "code",
      "execution_count": null,
      "id": "8d145570",
      "metadata": {
        "id": "8d145570",
        "outputId": "c2c61065-c53e-4745-86bd-fbb4a53cf0cb"
      },
      "outputs": [
        {
          "data": {
            "text/plain": [
              "CustomerID                0\n",
              "Gender                    0\n",
              "Age                       0\n",
              "Annual Income (k$)        0\n",
              "Spending Score (1-100)    0\n",
              "dtype: int64"
            ]
          },
          "execution_count": 4,
          "metadata": {},
          "output_type": "execute_result"
        }
      ],
      "source": [
        "data.isnull().sum()"
      ]
    },
    {
      "cell_type": "markdown",
      "id": "ae12640f",
      "metadata": {
        "id": "ae12640f"
      },
      "source": [
        "* Luckily we have no *Null* observations.\n",
        "\n",
        "* There are five variables in the dataset.\n",
        "\n",
        "* CustomerID is the unique identifier for each customer in the dataset. We can drop this variable since it does not provide any useful cluster information.\n",
        "\n",
        "* Since gender is categorical, it needs to be encoded and converted into numeric.\n",
        "\n",
        "* All other variables meeds to be scaled down to follow.a normal distribution before being fitted into the model. We will standardise these variables with a mean of 0 and standard deviation of 1."
      ]
    },
    {
      "cell_type": "code",
      "execution_count": null,
      "id": "f979d7e4",
      "metadata": {
        "id": "f979d7e4"
      },
      "outputs": [],
      "source": [
        "data = data.drop(['CustomerID'], axis = 1)"
      ]
    },
    {
      "cell_type": "code",
      "execution_count": null,
      "id": "1db3ef10",
      "metadata": {
        "id": "1db3ef10",
        "outputId": "1cbef0e4-d3d6-403b-ab3f-232c7d59affe"
      },
      "outputs": [
        {
          "data": {
            "text/html": [
              "<div>\n",
              "<style scoped>\n",
              "    .dataframe tbody tr th:only-of-type {\n",
              "        vertical-align: middle;\n",
              "    }\n",
              "\n",
              "    .dataframe tbody tr th {\n",
              "        vertical-align: top;\n",
              "    }\n",
              "\n",
              "    .dataframe thead th {\n",
              "        text-align: right;\n",
              "    }\n",
              "</style>\n",
              "<table border=\"1\" class=\"dataframe\">\n",
              "  <thead>\n",
              "    <tr style=\"text-align: right;\">\n",
              "      <th></th>\n",
              "      <th>Gender</th>\n",
              "      <th>Age</th>\n",
              "      <th>Annual Income (k$)</th>\n",
              "      <th>Spending Score (1-100)</th>\n",
              "    </tr>\n",
              "  </thead>\n",
              "  <tbody>\n",
              "    <tr>\n",
              "      <th>195</th>\n",
              "      <td>Female</td>\n",
              "      <td>35</td>\n",
              "      <td>120</td>\n",
              "      <td>79</td>\n",
              "    </tr>\n",
              "    <tr>\n",
              "      <th>196</th>\n",
              "      <td>Female</td>\n",
              "      <td>45</td>\n",
              "      <td>126</td>\n",
              "      <td>28</td>\n",
              "    </tr>\n",
              "    <tr>\n",
              "      <th>197</th>\n",
              "      <td>Male</td>\n",
              "      <td>32</td>\n",
              "      <td>126</td>\n",
              "      <td>74</td>\n",
              "    </tr>\n",
              "    <tr>\n",
              "      <th>198</th>\n",
              "      <td>Male</td>\n",
              "      <td>32</td>\n",
              "      <td>137</td>\n",
              "      <td>18</td>\n",
              "    </tr>\n",
              "    <tr>\n",
              "      <th>199</th>\n",
              "      <td>Male</td>\n",
              "      <td>30</td>\n",
              "      <td>137</td>\n",
              "      <td>83</td>\n",
              "    </tr>\n",
              "  </tbody>\n",
              "</table>\n",
              "</div>"
            ],
            "text/plain": [
              "     Gender  Age  Annual Income (k$)  Spending Score (1-100)\n",
              "195  Female   35                 120                      79\n",
              "196  Female   45                 126                      28\n",
              "197    Male   32                 126                      74\n",
              "198    Male   32                 137                      18\n",
              "199    Male   30                 137                      83"
            ]
          },
          "execution_count": 6,
          "metadata": {},
          "output_type": "execute_result"
        }
      ],
      "source": [
        "data.tail()"
      ]
    },
    {
      "cell_type": "markdown",
      "id": "ca90e25b",
      "metadata": {
        "id": "ca90e25b"
      },
      "source": [
        "# Standardizing variables"
      ]
    },
    {
      "cell_type": "markdown",
      "id": "6c92e84e",
      "metadata": {
        "id": "6c92e84e"
      },
      "source": [
        "Scaling the variables is important, to get all the variables around the same scale."
      ]
    },
    {
      "cell_type": "code",
      "execution_count": null,
      "id": "9d5058aa",
      "metadata": {
        "id": "9d5058aa",
        "outputId": "116615b3-80f9-4a75-b7af-a5fa1740423e"
      },
      "outputs": [
        {
          "data": {
            "text/html": [
              "<div>\n",
              "<style scoped>\n",
              "    .dataframe tbody tr th:only-of-type {\n",
              "        vertical-align: middle;\n",
              "    }\n",
              "\n",
              "    .dataframe tbody tr th {\n",
              "        vertical-align: top;\n",
              "    }\n",
              "\n",
              "    .dataframe thead th {\n",
              "        text-align: right;\n",
              "    }\n",
              "</style>\n",
              "<table border=\"1\" class=\"dataframe\">\n",
              "  <thead>\n",
              "    <tr style=\"text-align: right;\">\n",
              "      <th></th>\n",
              "      <th>Annual Income (k$)</th>\n",
              "      <th>Age</th>\n",
              "      <th>Spending Score (1-100)</th>\n",
              "    </tr>\n",
              "  </thead>\n",
              "  <tbody>\n",
              "    <tr>\n",
              "      <th>0</th>\n",
              "      <td>-1.738999</td>\n",
              "      <td>-1.424569</td>\n",
              "      <td>-0.434801</td>\n",
              "    </tr>\n",
              "    <tr>\n",
              "      <th>1</th>\n",
              "      <td>-1.738999</td>\n",
              "      <td>-1.281035</td>\n",
              "      <td>1.195704</td>\n",
              "    </tr>\n",
              "    <tr>\n",
              "      <th>2</th>\n",
              "      <td>-1.700830</td>\n",
              "      <td>-1.352802</td>\n",
              "      <td>-1.715913</td>\n",
              "    </tr>\n",
              "    <tr>\n",
              "      <th>3</th>\n",
              "      <td>-1.700830</td>\n",
              "      <td>-1.137502</td>\n",
              "      <td>1.040418</td>\n",
              "    </tr>\n",
              "    <tr>\n",
              "      <th>4</th>\n",
              "      <td>-1.662660</td>\n",
              "      <td>-0.563369</td>\n",
              "      <td>-0.395980</td>\n",
              "    </tr>\n",
              "  </tbody>\n",
              "</table>\n",
              "</div>"
            ],
            "text/plain": [
              "   Annual Income (k$)       Age  Spending Score (1-100)\n",
              "0           -1.738999 -1.424569               -0.434801\n",
              "1           -1.738999 -1.281035                1.195704\n",
              "2           -1.700830 -1.352802               -1.715913\n",
              "3           -1.700830 -1.137502                1.040418\n",
              "4           -1.662660 -0.563369               -0.395980"
            ]
          },
          "execution_count": 7,
          "metadata": {},
          "output_type": "execute_result"
        }
      ],
      "source": [
        "col = ['Annual Income (k$)', 'Age', 'Spending Score (1-100)']\n",
        "features = data[col]\n",
        "scaler = StandardScaler().fit(features.values)\n",
        "features = scaler. transform(features.values)\n",
        "scaled_features = pd.DataFrame(features, columns = col)\n",
        "scaled_features.head()"
      ]
    },
    {
      "cell_type": "markdown",
      "id": "3abf91c4",
      "metadata": {
        "id": "3abf91c4"
      },
      "source": [
        "We can observe that the variables have been standardised and are now cantered around zero."
      ]
    },
    {
      "cell_type": "markdown",
      "id": "b62bac89",
      "metadata": {
        "id": "b62bac89"
      },
      "source": [
        "# One hot encoding"
      ]
    },
    {
      "cell_type": "markdown",
      "id": "00285b8f",
      "metadata": {
        "id": "00285b8f"
      },
      "source": [
        "* Since gender is categorical, it needs to be encoded and converted into numeric.\n",
        "\n",
        "* This means we need to assign a numeric value for each category using dummy variables. Dummy variables works under pandas library using pd.get_dummies()."
      ]
    },
    {
      "cell_type": "code",
      "execution_count": null,
      "id": "eed2e3d1",
      "metadata": {
        "id": "eed2e3d1",
        "outputId": "c1ff3227-98ee-46e0-bb5d-2a3169329977"
      },
      "outputs": [
        {
          "data": {
            "text/html": [
              "<div>\n",
              "<style scoped>\n",
              "    .dataframe tbody tr th:only-of-type {\n",
              "        vertical-align: middle;\n",
              "    }\n",
              "\n",
              "    .dataframe tbody tr th {\n",
              "        vertical-align: top;\n",
              "    }\n",
              "\n",
              "    .dataframe thead th {\n",
              "        text-align: right;\n",
              "    }\n",
              "</style>\n",
              "<table border=\"1\" class=\"dataframe\">\n",
              "  <thead>\n",
              "    <tr style=\"text-align: right;\">\n",
              "      <th></th>\n",
              "      <th>Annual Income (k$)</th>\n",
              "      <th>Age</th>\n",
              "      <th>Spending Score (1-100)</th>\n",
              "      <th>Gender_Female</th>\n",
              "    </tr>\n",
              "  </thead>\n",
              "  <tbody>\n",
              "    <tr>\n",
              "      <th>0</th>\n",
              "      <td>-1.738999</td>\n",
              "      <td>-1.424569</td>\n",
              "      <td>-0.434801</td>\n",
              "      <td>0</td>\n",
              "    </tr>\n",
              "    <tr>\n",
              "      <th>1</th>\n",
              "      <td>-1.738999</td>\n",
              "      <td>-1.281035</td>\n",
              "      <td>1.195704</td>\n",
              "      <td>0</td>\n",
              "    </tr>\n",
              "    <tr>\n",
              "      <th>2</th>\n",
              "      <td>-1.700830</td>\n",
              "      <td>-1.352802</td>\n",
              "      <td>-1.715913</td>\n",
              "      <td>1</td>\n",
              "    </tr>\n",
              "    <tr>\n",
              "      <th>3</th>\n",
              "      <td>-1.700830</td>\n",
              "      <td>-1.137502</td>\n",
              "      <td>1.040418</td>\n",
              "      <td>1</td>\n",
              "    </tr>\n",
              "    <tr>\n",
              "      <th>4</th>\n",
              "      <td>-1.662660</td>\n",
              "      <td>-0.563369</td>\n",
              "      <td>-0.395980</td>\n",
              "      <td>1</td>\n",
              "    </tr>\n",
              "  </tbody>\n",
              "</table>\n",
              "</div>"
            ],
            "text/plain": [
              "   Annual Income (k$)       Age  Spending Score (1-100)  Gender_Female\n",
              "0           -1.738999 -1.424569               -0.434801              0\n",
              "1           -1.738999 -1.281035                1.195704              0\n",
              "2           -1.700830 -1.352802               -1.715913              1\n",
              "3           -1.700830 -1.137502                1.040418              1\n",
              "4           -1.662660 -0.563369               -0.395980              1"
            ]
          },
          "execution_count": 8,
          "metadata": {},
          "output_type": "execute_result"
        }
      ],
      "source": [
        "gender = data['Gender']\n",
        "new_data = scaled_features.join(gender)\n",
        "\n",
        "new_data = pd.get_dummies(new_data, prefix=None, prefix_sep='_', dummy_na=False, columns=None, sparse=False, drop_first=False, dtype=None)   #one hot encoding\n",
        "\n",
        "new_data = new_data.drop(['Gender_Male'],axis=1)    #to get just female columns, the observations with zeroes in them are considered as male and 1 means female.\n",
        "\n",
        "new_data.head()"
      ]
    },
    {
      "cell_type": "markdown",
      "id": "008a4faf",
      "metadata": {
        "id": "008a4faf"
      },
      "source": [
        "# Dendrogram and Linkage\n",
        "\n",
        "    The linkage methods work by calculating the distances or similarities between all objects."
      ]
    },
    {
      "cell_type": "markdown",
      "id": "b61ccd26",
      "metadata": {
        "id": "b61ccd26"
      },
      "source": [
        "### *Complete Linkage*\n",
        "\n",
        "    For two clusters R and S, the complete linkage returns the maximum distance between two points i and j such that i belongs to R and j belongs to S.\n"
      ]
    },
    {
      "cell_type": "code",
      "execution_count": null,
      "id": "030f69fe",
      "metadata": {
        "id": "030f69fe"
      },
      "outputs": [],
      "source": [
        "#Initialising 'Z' for checking Complete Linkage on 'new_data'\n",
        "Z = linkage(new_data, \"complete\")           "
      ]
    },
    {
      "cell_type": "code",
      "execution_count": null,
      "id": "58666b9b",
      "metadata": {
        "id": "58666b9b",
        "outputId": "3816116f-104a-4f12-dd1e-1dac66632f02"
      },
      "outputs": [
        {
          "data": {
            "image/png": "[encoded data removed]",
            "text/plain": [
              "<Figure size 432x288 with 1 Axes>"
            ]
          },
          "metadata": {
            "needs_background": "light"
          },
          "output_type": "display_data"
        }
      ],
      "source": [
        "#plotting Dendrogram for clustering\n",
        "dendrogram(Z, leaf_rotation=90, leaf_font_size=1.)\n",
        "plt.title(\"Dendrogram\")\n",
        "plt.xlabel('Cluster size')\n",
        "plt.ylabel('Distance')\n",
        "plt.show()"
      ]
    },
    {
      "cell_type": "code",
      "execution_count": null,
      "id": "dbbb401e",
      "metadata": {
        "id": "dbbb401e",
        "outputId": "2d3eab82-7068-44ab-c066-255726df6fbe"
      },
      "outputs": [
        {
          "data": {
            "image/png": "[encoded data removed]",
            "text/plain": [
              "<Figure size 432x288 with 1 Axes>"
            ]
          },
          "metadata": {
            "needs_background": "light"
          },
          "output_type": "display_data"
        }
      ],
      "source": [
        "#truncating dendrogram for a cleaner view\n",
        "dendrogram(Z, truncate_mode='lastp', p=30, leaf_rotation=90, leaf_font_size=10.)\n",
        "plt.title(\"Truncated Dendrogram\")\n",
        "plt.xlabel('Cluster size')\n",
        "plt.ylabel('Distance')\n",
        "plt.show()"
      ]
    },
    {
      "cell_type": "markdown",
      "id": "10c4e60f",
      "metadata": {
        "id": "10c4e60f"
      },
      "source": [
        "A clustering of 3-5 segments of customers can be done using *complete linkage*.\n",
        "\n",
        "Clustering of 5 segments seems optimal."
      ]
    },
    {
      "cell_type": "markdown",
      "id": "99407fd7",
      "metadata": {
        "id": "99407fd7"
      },
      "source": [
        "### *Average Linkage*\n",
        "\n",
        "    For two clusters R and S, first for the distance between any data-point i in R and any data-point j in S and then the arithmetic mean of these distances are calculated. Average Linkage returns this value of the arithmetic mean.\n"
      ]
    },
    {
      "cell_type": "code",
      "execution_count": null,
      "id": "1502d7d8",
      "metadata": {
        "id": "1502d7d8"
      },
      "outputs": [],
      "source": [
        "#Initialising 'Z' for checking Complete Linkage on 'new_data'\n",
        "Z = linkage(new_data, \"average\")"
      ]
    },
    {
      "cell_type": "code",
      "execution_count": null,
      "id": "3361c4b8",
      "metadata": {
        "scrolled": true,
        "id": "3361c4b8",
        "outputId": "a335a70e-3d0d-4b3c-c60c-2070e4aea837"
      },
      "outputs": [
        {
          "data": {
            "image/png": "[encoded data removed]",
            "text/plain": [
              "<Figure size 432x288 with 1 Axes>"
            ]
          },
          "metadata": {
            "needs_background": "light"
          },
          "output_type": "display_data"
        }
      ],
      "source": [
        "#plotting Dendrogram for clustering\n",
        "dendrogram(Z, leaf_rotation=90, leaf_font_size=1.)\n",
        "plt.title(\"Dendrogram\")\n",
        "plt.xlabel('Cluster size')\n",
        "plt.ylabel('Distance')\n",
        "plt.show()"
      ]
    },
    {
      "cell_type": "code",
      "execution_count": null,
      "id": "e60251da",
      "metadata": {
        "id": "e60251da",
        "outputId": "9c782c0f-4812-45ab-a0df-9db50d0712ca"
      },
      "outputs": [
        {
          "data": {
            "image/png": "[encoded data removed]",
            "text/plain": [
              "<Figure size 432x288 with 1 Axes>"
            ]
          },
          "metadata": {
            "needs_background": "light"
          },
          "output_type": "display_data"
        }
      ],
      "source": [
        "#truncating dendrogram for a cleaner view\n",
        "dendrogram(Z, truncate_mode='lastp', p=30, leaf_rotation=90, leaf_font_size=10.)\n",
        "plt.title(\"Truncated Dendrogram\")\n",
        "plt.xlabel('Cluster size')\n",
        "plt.ylabel('Distance')\n",
        "plt.show()"
      ]
    },
    {
      "cell_type": "markdown",
      "id": "ead2e33d",
      "metadata": {
        "id": "ead2e33d"
      },
      "source": [
        "A clustering of 4-8 segments of customers can be done using *average linkage*."
      ]
    },
    {
      "cell_type": "markdown",
      "id": "d24b4245",
      "metadata": {
        "id": "d24b4245"
      },
      "source": [
        "### *Single Linkage*\n",
        "\n",
        "    For two clusters R and S, the single linkage returns the minimum distance between two points i and j such that i belongs to R and j belongs to S."
      ]
    },
    {
      "cell_type": "code",
      "execution_count": null,
      "id": "9c19b3ea",
      "metadata": {
        "id": "9c19b3ea"
      },
      "outputs": [],
      "source": [
        "#Initialising 'Z' for checking Complete Linkage on 'new_data'\n",
        "Z = linkage(new_data, \"single\")"
      ]
    },
    {
      "cell_type": "code",
      "execution_count": null,
      "id": "d0272819",
      "metadata": {
        "id": "d0272819",
        "outputId": "a117f6e0-ccaf-4bd4-ac16-7c26920f9d62"
      },
      "outputs": [
        {
          "data": {
            "image/png": "[encoded data removed]",
            "text/plain": [
              "<Figure size 432x288 with 1 Axes>"
            ]
          },
          "metadata": {
            "needs_background": "light"
          },
          "output_type": "display_data"
        }
      ],
      "source": [
        "#plotting Dendrogram for clustering\n",
        "dendrogram(Z, leaf_rotation=90, leaf_font_size=1.)\n",
        "plt.title(\"Dendrogram\")\n",
        "plt.xlabel('Cluster size')\n",
        "plt.ylabel('Distance')\n",
        "plt.show()"
      ]
    },
    {
      "cell_type": "code",
      "execution_count": null,
      "id": "fae8be68",
      "metadata": {
        "id": "fae8be68",
        "outputId": "6a5a1e4f-198a-407a-a884-154784d85d4d"
      },
      "outputs": [
        {
          "data": {
            "image/png": "[encoded data removed]",
            "text/plain": [
              "<Figure size 432x288 with 1 Axes>"
            ]
          },
          "metadata": {
            "needs_background": "light"
          },
          "output_type": "display_data"
        }
      ],
      "source": [
        "#truncating dendrogram for a cleaner view\n",
        "dendrogram(Z, truncate_mode='lastp', p=30, leaf_rotation=90, leaf_font_size=10.)\n",
        "plt.title(\"Truncated Dendrogram\")\n",
        "plt.xlabel('Cluster size')\n",
        "plt.ylabel('Distance')\n",
        "plt.show()"
      ]
    },
    {
      "cell_type": "markdown",
      "id": "7579d211",
      "metadata": {
        "id": "7579d211"
      },
      "source": [
        "Clustering among customers is not possible with *single linkage*, as it is giving a very complicated Dendrogram."
      ]
    },
    {
      "cell_type": "markdown",
      "id": "99c25e33",
      "metadata": {
        "id": "99c25e33"
      },
      "source": [
        "# **Model Fitting**"
      ]
    },
    {
      "cell_type": "markdown",
      "id": "5bf29186",
      "metadata": {
        "id": "5bf29186"
      },
      "source": [
        "## Model 1\n",
        "### Agglomerative Hierarchical Clustering\n",
        "\n",
        "    - It is also known as bottom-up approach or hierarchical agglomerative clustering (HAC).\n",
        "    - This algorithm considers each dataset as a single cluster at the beginning, and then start combining the closest pair of clusters together. It does this until all the clusters are merged into a single cluster that contains all the datasets.\n",
        "    - This hierarchy of clusters is represented in the form of the dendrogram."
      ]
    },
    {
      "cell_type": "code",
      "execution_count": null,
      "id": "cf3766d1",
      "metadata": {
        "id": "cf3766d1"
      },
      "outputs": [],
      "source": [
        "#Clustering taken for 5 segments, as obtained from Complete Linkage Dendrogram.\n",
        "hclust = AgglomerativeClustering(n_clusters = 5, affinity='euclidean', linkage = 'complete')"
      ]
    },
    {
      "cell_type": "code",
      "execution_count": null,
      "id": "6f636b0c",
      "metadata": {
        "id": "6f636b0c",
        "outputId": "24a25777-af6e-4f85-8f56-0336d0cd1d5c"
      },
      "outputs": [
        {
          "data": {
            "text/plain": [
              "AgglomerativeClustering(linkage='complete', n_clusters=5)"
            ]
          },
          "execution_count": 19,
          "metadata": {},
          "output_type": "execute_result"
        }
      ],
      "source": [
        "hclust.fit(new_data)"
      ]
    },
    {
      "cell_type": "code",
      "execution_count": null,
      "id": "ec465883",
      "metadata": {
        "id": "ec465883",
        "outputId": "d303c6be-d9eb-484c-9d24-9b05f4984b84"
      },
      "outputs": [
        {
          "data": {
            "text/plain": [
              "array([1, 2, 1, 2, 1, 2, 1, 2, 0, 2, 0, 2, 0, 2, 0, 2, 1, 2, 0, 2, 0, 2,\n",
              "       0, 2, 0, 2, 0, 1, 0, 2, 0, 2, 0, 2, 0, 2, 0, 2, 0, 2, 0, 2, 0, 1,\n",
              "       0, 2, 0, 1, 1, 1, 0, 1, 1, 0, 0, 0, 0, 0, 1, 0, 0, 1, 0, 0, 0, 1,\n",
              "       0, 0, 1, 1, 0, 0, 0, 0, 0, 1, 0, 1, 1, 0, 0, 1, 0, 0, 1, 0, 0, 1,\n",
              "       1, 0, 0, 1, 0, 1, 1, 1, 0, 1, 0, 1, 1, 0, 0, 1, 0, 1, 0, 0, 0, 0,\n",
              "       0, 1, 1, 1, 1, 1, 0, 0, 0, 0, 1, 1, 1, 4, 1, 4, 0, 4, 3, 4, 3, 4,\n",
              "       1, 4, 1, 4, 3, 4, 1, 4, 3, 4, 1, 4, 1, 4, 0, 4, 3, 4, 3, 4, 3, 4,\n",
              "       3, 4, 3, 4, 3, 4, 0, 4, 1, 4, 3, 4, 3, 4, 3, 4, 3, 4, 3, 4, 3, 4,\n",
              "       3, 4, 3, 4, 3, 4, 3, 4, 3, 4, 3, 4, 3, 4, 3, 4, 3, 4, 3, 4, 3, 4,\n",
              "       3, 4])"
            ]
          },
          "execution_count": 20,
          "metadata": {},
          "output_type": "execute_result"
        }
      ],
      "source": [
        "#Grouping Data\n",
        "hclust.labels_"
      ]
    },
    {
      "cell_type": "code",
      "execution_count": null,
      "id": "7c504ad7",
      "metadata": {
        "id": "7c504ad7",
        "outputId": "f318c854-0d6b-4fb8-afd2-5bad548cb713"
      },
      "outputs": [
        {
          "data": {
            "text/html": [
              "<div>\n",
              "<style scoped>\n",
              "    .dataframe tbody tr th:only-of-type {\n",
              "        vertical-align: middle;\n",
              "    }\n",
              "\n",
              "    .dataframe tbody tr th {\n",
              "        vertical-align: top;\n",
              "    }\n",
              "\n",
              "    .dataframe thead th {\n",
              "        text-align: right;\n",
              "    }\n",
              "</style>\n",
              "<table border=\"1\" class=\"dataframe\">\n",
              "  <thead>\n",
              "    <tr style=\"text-align: right;\">\n",
              "      <th></th>\n",
              "      <th>Gender</th>\n",
              "      <th>Age</th>\n",
              "      <th>Annual Income (k$)</th>\n",
              "      <th>Spending Score (1-100)</th>\n",
              "      <th>Groups</th>\n",
              "    </tr>\n",
              "  </thead>\n",
              "  <tbody>\n",
              "    <tr>\n",
              "      <th>0</th>\n",
              "      <td>Male</td>\n",
              "      <td>19</td>\n",
              "      <td>15</td>\n",
              "      <td>39</td>\n",
              "      <td>1</td>\n",
              "    </tr>\n",
              "    <tr>\n",
              "      <th>1</th>\n",
              "      <td>Male</td>\n",
              "      <td>21</td>\n",
              "      <td>15</td>\n",
              "      <td>81</td>\n",
              "      <td>2</td>\n",
              "    </tr>\n",
              "    <tr>\n",
              "      <th>2</th>\n",
              "      <td>Female</td>\n",
              "      <td>20</td>\n",
              "      <td>16</td>\n",
              "      <td>6</td>\n",
              "      <td>1</td>\n",
              "    </tr>\n",
              "    <tr>\n",
              "      <th>3</th>\n",
              "      <td>Female</td>\n",
              "      <td>23</td>\n",
              "      <td>16</td>\n",
              "      <td>77</td>\n",
              "      <td>2</td>\n",
              "    </tr>\n",
              "    <tr>\n",
              "      <th>4</th>\n",
              "      <td>Female</td>\n",
              "      <td>31</td>\n",
              "      <td>17</td>\n",
              "      <td>40</td>\n",
              "      <td>1</td>\n",
              "    </tr>\n",
              "  </tbody>\n",
              "</table>\n",
              "</div>"
            ],
            "text/plain": [
              "   Gender  Age  Annual Income (k$)  Spending Score (1-100)  Groups\n",
              "0    Male   19                  15                      39       1\n",
              "1    Male   21                  15                      81       2\n",
              "2  Female   20                  16                       6       1\n",
              "3  Female   23                  16                      77       2\n",
              "4  Female   31                  17                      40       1"
            ]
          },
          "execution_count": 21,
          "metadata": {},
          "output_type": "execute_result"
        }
      ],
      "source": [
        "data['Groups'] = hclust.labels_\n",
        "data.head()"
      ]
    },
    {
      "cell_type": "code",
      "execution_count": null,
      "id": "8ac07715",
      "metadata": {
        "scrolled": false,
        "id": "8ac07715",
        "outputId": "c39103c2-ccc0-4e13-89f1-95c41ff073d5"
      },
      "outputs": [
        {
          "data": {
            "text/html": [
              "<div>\n",
              "<style scoped>\n",
              "    .dataframe tbody tr th:only-of-type {\n",
              "        vertical-align: middle;\n",
              "    }\n",
              "\n",
              "    .dataframe tbody tr th {\n",
              "        vertical-align: top;\n",
              "    }\n",
              "\n",
              "    .dataframe thead th {\n",
              "        text-align: right;\n",
              "    }\n",
              "</style>\n",
              "<table border=\"1\" class=\"dataframe\">\n",
              "  <thead>\n",
              "    <tr style=\"text-align: right;\">\n",
              "      <th></th>\n",
              "      <th>Age</th>\n",
              "      <th>Annual Income (k$)</th>\n",
              "      <th>Spending Score (1-100)</th>\n",
              "    </tr>\n",
              "    <tr>\n",
              "      <th>Groups</th>\n",
              "      <th></th>\n",
              "      <th></th>\n",
              "      <th></th>\n",
              "    </tr>\n",
              "  </thead>\n",
              "  <tbody>\n",
              "    <tr>\n",
              "      <th>0</th>\n",
              "      <td>54.078125</td>\n",
              "      <td>47.968750</td>\n",
              "      <td>40.609375</td>\n",
              "    </tr>\n",
              "    <tr>\n",
              "      <th>1</th>\n",
              "      <td>26.750000</td>\n",
              "      <td>53.604167</td>\n",
              "      <td>43.458333</td>\n",
              "    </tr>\n",
              "    <tr>\n",
              "      <th>2</th>\n",
              "      <td>24.809524</td>\n",
              "      <td>25.619048</td>\n",
              "      <td>80.238095</td>\n",
              "    </tr>\n",
              "    <tr>\n",
              "      <th>3</th>\n",
              "      <td>43.892857</td>\n",
              "      <td>91.285714</td>\n",
              "      <td>16.678571</td>\n",
              "    </tr>\n",
              "    <tr>\n",
              "      <th>4</th>\n",
              "      <td>32.692308</td>\n",
              "      <td>86.538462</td>\n",
              "      <td>82.128205</td>\n",
              "    </tr>\n",
              "  </tbody>\n",
              "</table>\n",
              "</div>"
            ],
            "text/plain": [
              "              Age  Annual Income (k$)  Spending Score (1-100)\n",
              "Groups                                                       \n",
              "0       54.078125           47.968750               40.609375\n",
              "1       26.750000           53.604167               43.458333\n",
              "2       24.809524           25.619048               80.238095\n",
              "3       43.892857           91.285714               16.678571\n",
              "4       32.692308           86.538462               82.128205"
            ]
          },
          "execution_count": 22,
          "metadata": {},
          "output_type": "execute_result"
        }
      ],
      "source": [
        "# Checking the aggregate of the groups\n",
        "data.groupby(['Groups']).mean()"
      ]
    },
    {
      "cell_type": "markdown",
      "id": "4edeb28b",
      "metadata": {
        "id": "4edeb28b"
      },
      "source": [
        "* Silhouette coefficient:\n",
        "    \n",
        "        A silhouette coefficient, or a silhouette score is a metric used to evaluate the quality of clusters created by the algorithm.\n",
        "\n",
        "        Silhouette scores range from -1 to +1. The higher the silhouette score, the better the model.\n",
        "\n",
        "        The silhouette score measures the distance between all the data points within the same cluster. The lower this distance, the better the silhouette score.\n",
        "\n",
        "        It also measures the distance between an object and the data points in the nearest cluster. The higher this distance, the better.\n",
        "\n",
        "        A silhouette score closer to +1 indicates good clustering performance, and a silhouette score closer to -1 indicates a poor clustering model."
      ]
    },
    {
      "cell_type": "code",
      "execution_count": null,
      "id": "703f2b30",
      "metadata": {
        "scrolled": true,
        "id": "703f2b30",
        "outputId": "93647ebf-e266-4ecf-b02b-6a742ebc7a8a"
      },
      "outputs": [
        {
          "name": "stdout",
          "output_type": "stream",
          "text": [
            "0.3404764937897312\n"
          ]
        }
      ],
      "source": [
        "# Silhouette coefficient\n",
        "\n",
        "# Building a model with 5 clusters as obtained from Complete Linkage Dendrogram..\n",
        "\n",
        "aglo = AgglomerativeClustering(n_clusters = 5, affinity='euclidean', linkage = 'complete')\n",
        "aglo.fit(new_data)\n",
        "\n",
        "# Now, print the silhouette score of this model\n",
        "\n",
        "print(silhouette_score(new_data, aglo.labels_, metric='euclidean'))"
      ]
    },
    {
      "cell_type": "markdown",
      "id": "03681bbb",
      "metadata": {
        "id": "03681bbb"
      },
      "source": [
        "The Silhouette score obtained by this model is 0.34. Its not a bad score but lets try to improve it."
      ]
    },
    {
      "cell_type": "markdown",
      "id": "972e50bd",
      "metadata": {
        "id": "972e50bd"
      },
      "source": [
        "## Model 2\n",
        "### K-Means Clustering\n",
        "    \n",
        "    - K-Means Clustering is an unsupervised learning algorithm.\n",
        "    - It groups the unlabeled dataset into different clusters. Here K defines the number of pre-defined clusters that need to be created in the process, as if K=2, there will be two clusters, and for K=3, there will be three clusters, and so on.\n",
        "    -It allows us to cluster the data into different groups and a convenient way to discover the categories of groups in the unlabeled dataset on its own without the need for any training.\n",
        "    -It is a centroid-based algorithm, where each cluster is associated with a centroid. The main aim of this algorithm is to minimize the sum of distances between the data point and their corresponding clusters."
      ]
    },
    {
      "cell_type": "code",
      "execution_count": null,
      "id": "b6fd83ee",
      "metadata": {
        "scrolled": true,
        "id": "b6fd83ee",
        "outputId": "b8b1b0fe-8862-49f7-c75d-164ed1d3b192"
      },
      "outputs": [
        {
          "data": {
            "text/plain": [
              "Text(0, 0.5, 'Inertia')"
            ]
          },
          "execution_count": 24,
          "metadata": {},
          "output_type": "execute_result"
        },
        {
          "data": {
            "image/png": "[encoded data removed]",
            "text/plain": [
              "<Figure size 864x432 with 1 Axes>"
            ]
          },
          "metadata": {
            "needs_background": "light"
          },
          "output_type": "display_data"
        }
      ],
      "source": [
        "SSE = []\n",
        "\n",
        "for cluster in range(1,10):\n",
        "    kmeans = KMeans(n_jobs = -1, n_clusters = cluster, init='k-means++')\n",
        "    kmeans.fit(new_data)\n",
        "    SSE.append(kmeans.inertia_)\n",
        "\n",
        "# converting the results into a dataframe and plotting them\n",
        "\n",
        "frame = pd.DataFrame({'Cluster':range(1,10), 'SSE':SSE})\n",
        "plt.figure(figsize=(12,6))\n",
        "plt.plot(frame['Cluster'], frame['SSE'], marker='o')\n",
        "plt.xlabel('Number of clusters')\n",
        "plt.ylabel('Inertia')"
      ]
    },
    {
      "cell_type": "markdown",
      "id": "018e5e75",
      "metadata": {
        "id": "018e5e75"
      },
      "source": [
        "* The optimal number of clusters seems to be 4."
      ]
    },
    {
      "cell_type": "code",
      "execution_count": null,
      "id": "5da7e715",
      "metadata": {
        "id": "5da7e715",
        "outputId": "a9287940-4de9-4b8d-9b28-b2f2b194fec4"
      },
      "outputs": [
        {
          "name": "stdout",
          "output_type": "stream",
          "text": [
            "0.35027020434653977\n"
          ]
        }
      ],
      "source": [
        "# Building a model with 4 clusters since we got the optimal number of clusters at 4.\n",
        "\n",
        "kmeans = KMeans(n_jobs = -1, n_clusters = 4, init='k-means++')\n",
        "kmeans.fit(new_data)\n",
        "\n",
        "# Now, print the silhouette score of this model\n",
        "\n",
        "print(silhouette_score(new_data, kmeans.labels_, metric='euclidean'))"
      ]
    },
    {
      "cell_type": "markdown",
      "id": "6948dee0",
      "metadata": {
        "id": "6948dee0"
      },
      "source": [
        "* The Silhouette score obtained by this model is 0.35. A slightly better score can be seen when compared to Agglomorerative Clustering(0.34).\n",
        "\n",
        "* Little improvement in the model."
      ]
    },
    {
      "cell_type": "markdown",
      "id": "030ba407",
      "metadata": {
        "id": "030ba407"
      },
      "source": [
        "## Model 3\n",
        "### Prinipal Component Analysis and K-Means"
      ]
    },
    {
      "cell_type": "markdown",
      "id": "3ebe65cf",
      "metadata": {
        "id": "3ebe65cf"
      },
      "source": [
        "* PCA is a technique that helps us reduce the dimension of a dataset. When we run PCA on a data frame, new components are created. These components explain the maximum variance in the model.\n",
        "\n",
        "* We can select a subset of these variables and include them into the K-means model."
      ]
    },
    {
      "cell_type": "code",
      "execution_count": null,
      "id": "1c41356a",
      "metadata": {
        "id": "1c41356a",
        "outputId": "235bd3e1-742b-43f6-c902-27e4299f24c0"
      },
      "outputs": [
        {
          "data": {
            "image/png": "[encoded data removed]",
            "text/plain": [
              "<Figure size 432x288 with 1 Axes>"
            ]
          },
          "metadata": {
            "needs_background": "light"
          },
          "output_type": "display_data"
        }
      ],
      "source": [
        "pca = PCA(n_components=4)\n",
        "principalComponents = pca.fit_transform(new_data)\n",
        "\n",
        "features = range(pca.n_components_)\n",
        "plt.bar(features, pca.explained_variance_ratio_, color='Turquoise', edgecolor = \"purple\")\n",
        "plt.xlabel('PCA features')\n",
        "plt.ylabel('variance %')\n",
        "plt.xticks(features)\n",
        "\n",
        "PCA_components = pd.DataFrame(principalComponents)"
      ]
    },
    {
      "cell_type": "markdown",
      "id": "943b6106",
      "metadata": {
        "id": "943b6106"
      },
      "source": [
        "This chart shows us each PCA component, along with it variance.\n",
        "\n",
        "Based on this visualization, we can see that the first two PCA components explain around 70% of the dataset variance.\n",
        "\n",
        "We can feed these two components into the model.\n",
        "\n",
        "Lets build the model again with the first two principal components, and decide on the number of clusters to use."
      ]
    },
    {
      "cell_type": "code",
      "execution_count": null,
      "id": "56216bd5",
      "metadata": {
        "id": "56216bd5",
        "outputId": "96a1be46-39f3-457b-cece-802895e0062a"
      },
      "outputs": [
        {
          "data": {
            "image/png": "[encoded data removed]",
            "text/plain": [
              "<Figure size 432x288 with 1 Axes>"
            ]
          },
          "metadata": {
            "needs_background": "light"
          },
          "output_type": "display_data"
        }
      ],
      "source": [
        "ks = range(1, 10)\n",
        "inertias = []\n",
        "\n",
        "for k in ks:\n",
        "    model = KMeans(n_clusters=k)\n",
        "    model.fit(PCA_components.iloc[:,:2])\n",
        "    inertias.append(model.inertia_)\n",
        "\n",
        "plt.plot(ks, inertias, '-o', color='blue')\n",
        "plt.xlabel('number of clusters, k')\n",
        "plt.ylabel('inertia')\n",
        "plt.xticks(ks)\n",
        "plt.show()"
      ]
    },
    {
      "cell_type": "markdown",
      "id": "6e6468ca",
      "metadata": {
        "id": "6e6468ca"
      },
      "source": [
        "* It looks like optimal number of clusters is 4, again."
      ]
    },
    {
      "cell_type": "code",
      "execution_count": null,
      "id": "4c255225",
      "metadata": {
        "id": "4c255225",
        "outputId": "5b8dd865-090a-4498-b78a-962e386027ce"
      },
      "outputs": [
        {
          "name": "stdout",
          "output_type": "stream",
          "text": [
            "0.42177622653948804\n"
          ]
        }
      ],
      "source": [
        "model = KMeans(n_clusters=4)\n",
        "model.fit(PCA_components.iloc[:,:2])\n",
        "\n",
        "# silhouette score\n",
        "print(silhouette_score(PCA_components.iloc[:,:2], model.labels_, metric='euclidean')) "
      ]
    },
    {
      "cell_type": "markdown",
      "id": "2d00363c",
      "metadata": {
        "id": "2d00363c"
      },
      "source": [
        "* The silhouette score for model 3 is 0.42, which is best score yet, compared to previous models.\n",
        "\n",
        "* Best performing model."
      ]
    },
    {
      "cell_type": "markdown",
      "id": "ef148261",
      "metadata": {
        "id": "ef148261"
      },
      "source": [
        "# Cluster Analysis"
      ]
    },
    {
      "cell_type": "code",
      "execution_count": null,
      "id": "684ffd87",
      "metadata": {
        "id": "684ffd87",
        "outputId": "41da2781-7f87-4c59-c388-934d8c6a4ffa"
      },
      "outputs": [
        {
          "data": {
            "text/html": [
              "<div>\n",
              "<style scoped>\n",
              "    .dataframe tbody tr th:only-of-type {\n",
              "        vertical-align: middle;\n",
              "    }\n",
              "\n",
              "    .dataframe tbody tr th {\n",
              "        vertical-align: top;\n",
              "    }\n",
              "\n",
              "    .dataframe thead th {\n",
              "        text-align: right;\n",
              "    }\n",
              "</style>\n",
              "<table border=\"1\" class=\"dataframe\">\n",
              "  <thead>\n",
              "    <tr style=\"text-align: right;\">\n",
              "      <th></th>\n",
              "      <th>Gender</th>\n",
              "      <th>Age</th>\n",
              "      <th>Annual Income (k$)</th>\n",
              "      <th>Spending Score (1-100)</th>\n",
              "      <th>cluster</th>\n",
              "    </tr>\n",
              "  </thead>\n",
              "  <tbody>\n",
              "    <tr>\n",
              "      <th>0</th>\n",
              "      <td>Male</td>\n",
              "      <td>19</td>\n",
              "      <td>15</td>\n",
              "      <td>39</td>\n",
              "      <td>0</td>\n",
              "    </tr>\n",
              "    <tr>\n",
              "      <th>1</th>\n",
              "      <td>Male</td>\n",
              "      <td>21</td>\n",
              "      <td>15</td>\n",
              "      <td>81</td>\n",
              "      <td>0</td>\n",
              "    </tr>\n",
              "    <tr>\n",
              "      <th>2</th>\n",
              "      <td>Female</td>\n",
              "      <td>20</td>\n",
              "      <td>16</td>\n",
              "      <td>6</td>\n",
              "      <td>3</td>\n",
              "    </tr>\n",
              "    <tr>\n",
              "      <th>3</th>\n",
              "      <td>Female</td>\n",
              "      <td>23</td>\n",
              "      <td>16</td>\n",
              "      <td>77</td>\n",
              "      <td>0</td>\n",
              "    </tr>\n",
              "    <tr>\n",
              "      <th>4</th>\n",
              "      <td>Female</td>\n",
              "      <td>31</td>\n",
              "      <td>17</td>\n",
              "      <td>40</td>\n",
              "      <td>0</td>\n",
              "    </tr>\n",
              "  </tbody>\n",
              "</table>\n",
              "</div>"
            ],
            "text/plain": [
              "   Gender  Age  Annual Income (k$)  Spending Score (1-100)  cluster\n",
              "0    Male   19                  15                      39        0\n",
              "1    Male   21                  15                      81        0\n",
              "2  Female   20                  16                       6        3\n",
              "3  Female   23                  16                      77        0\n",
              "4  Female   31                  17                      40        0"
            ]
          },
          "execution_count": 31,
          "metadata": {},
          "output_type": "execute_result"
        }
      ],
      "source": [
        "data = pd.read_csv(\"/Users/pranavsmac/Documents/Jupyter Notebook/Dataset/Mall_Customers.csv\")\n",
        "data = data.drop(['CustomerID'],axis=1)\n",
        "\n",
        "# map back clusters to dataframe\n",
        "\n",
        "pred = model.predict(PCA_components.iloc[:,:2])\n",
        "frame = pd.DataFrame(data)\n",
        "frame['cluster'] = pred\n",
        "frame.head()"
      ]
    },
    {
      "cell_type": "markdown",
      "id": "3534d428",
      "metadata": {
        "id": "3534d428"
      },
      "source": [
        "* Notice that each row in the data frame is now assigned to a cluster."
      ]
    },
    {
      "cell_type": "code",
      "execution_count": null,
      "id": "eb8484af",
      "metadata": {
        "id": "eb8484af",
        "outputId": "97636ff0-f3d6-4cff-a495-0b3270b9690a"
      },
      "outputs": [
        {
          "data": {
            "text/html": [
              "<div>\n",
              "<style scoped>\n",
              "    .dataframe tbody tr th:only-of-type {\n",
              "        vertical-align: middle;\n",
              "    }\n",
              "\n",
              "    .dataframe tbody tr th {\n",
              "        vertical-align: top;\n",
              "    }\n",
              "\n",
              "    .dataframe thead th {\n",
              "        text-align: right;\n",
              "    }\n",
              "</style>\n",
              "<table border=\"1\" class=\"dataframe\">\n",
              "  <thead>\n",
              "    <tr style=\"text-align: right;\">\n",
              "      <th></th>\n",
              "      <th>cluster</th>\n",
              "      <th>Age</th>\n",
              "      <th>Annual Income (k$)</th>\n",
              "      <th>Spending Score (1-100)</th>\n",
              "    </tr>\n",
              "  </thead>\n",
              "  <tbody>\n",
              "    <tr>\n",
              "      <th>0</th>\n",
              "      <td>0</td>\n",
              "      <td>25.605263</td>\n",
              "      <td>32.631579</td>\n",
              "      <td>67.500000</td>\n",
              "    </tr>\n",
              "    <tr>\n",
              "      <th>1</th>\n",
              "      <td>1</td>\n",
              "      <td>41.685714</td>\n",
              "      <td>88.228571</td>\n",
              "      <td>17.285714</td>\n",
              "    </tr>\n",
              "    <tr>\n",
              "      <th>2</th>\n",
              "      <td>2</td>\n",
              "      <td>30.000000</td>\n",
              "      <td>79.086207</td>\n",
              "      <td>70.775862</td>\n",
              "    </tr>\n",
              "    <tr>\n",
              "      <th>3</th>\n",
              "      <td>3</td>\n",
              "      <td>52.144928</td>\n",
              "      <td>46.333333</td>\n",
              "      <td>40.072464</td>\n",
              "    </tr>\n",
              "  </tbody>\n",
              "</table>\n",
              "</div>"
            ],
            "text/plain": [
              "   cluster        Age  Annual Income (k$)  Spending Score (1-100)\n",
              "0        0  25.605263           32.631579               67.500000\n",
              "1        1  41.685714           88.228571               17.285714\n",
              "2        2  30.000000           79.086207               70.775862\n",
              "3        3  52.144928           46.333333               40.072464"
            ]
          },
          "execution_count": 32,
          "metadata": {},
          "output_type": "execute_result"
        }
      ],
      "source": [
        "# Now, to compare attributes of the different clusters, \n",
        "#lets find the average of all variables across each cluster.\n",
        "avg_data = data.groupby(['cluster'], as_index=False).mean()\n",
        "avg_data"
      ]
    },
    {
      "cell_type": "code",
      "execution_count": null,
      "id": "68891032",
      "metadata": {
        "id": "68891032",
        "outputId": "c06b8963-c7fa-4e44-f1be-a68d9058d321"
      },
      "outputs": [
        {
          "name": "stdout",
          "output_type": "stream",
          "text": [
            "Age vs Spending Score vs Annual Income\n"
          ]
        },
        {
          "data": {
            "image/png": "[encoded data removed]",
            "text/plain": [
              "<Figure size 432x288 with 1 Axes>"
            ]
          },
          "metadata": {
            "needs_background": "light"
          },
          "output_type": "display_data"
        },
        {
          "data": {
            "image/png": "[encoded data removed]",
            "text/plain": [
              "<Figure size 432x288 with 1 Axes>"
            ]
          },
          "metadata": {
            "needs_background": "light"
          },
          "output_type": "display_data"
        },
        {
          "data": {
            "image/png": "[encoded data removed]",
            "text/plain": [
              "<Figure size 432x288 with 1 Axes>"
            ]
          },
          "metadata": {
            "needs_background": "light"
          },
          "output_type": "display_data"
        }
      ],
      "source": [
        "# Visualising clusters fpr interpreting it\n",
        "print(\"Age vs Spending Score vs Annual Income\")\n",
        "sns.barplot(x='cluster',y='Age',data=avg_data)\n",
        "plt.show()\n",
        "sns.barplot(x='cluster',y='Spending Score (1-100)',data=avg_data)\n",
        "plt.show()\n",
        "sns.barplot(x='cluster',y='Annual Income (k$)',data=avg_data)\n",
        "plt.show()"
      ]
    },
    {
      "cell_type": "code",
      "execution_count": null,
      "id": "900c5dbd",
      "metadata": {
        "id": "900c5dbd",
        "outputId": "0440a17c-2045-4b8d-be20-6c4c18afdfc0"
      },
      "outputs": [
        {
          "data": {
            "text/html": [
              "<div>\n",
              "<style scoped>\n",
              "    .dataframe tbody tr th:only-of-type {\n",
              "        vertical-align: middle;\n",
              "    }\n",
              "\n",
              "    .dataframe tbody tr th {\n",
              "        vertical-align: top;\n",
              "    }\n",
              "\n",
              "    .dataframe thead th {\n",
              "        text-align: right;\n",
              "    }\n",
              "</style>\n",
              "<table border=\"1\" class=\"dataframe\">\n",
              "  <thead>\n",
              "    <tr style=\"text-align: right;\">\n",
              "      <th></th>\n",
              "      <th></th>\n",
              "      <th>Gender</th>\n",
              "    </tr>\n",
              "    <tr>\n",
              "      <th>cluster</th>\n",
              "      <th>Gender</th>\n",
              "      <th></th>\n",
              "    </tr>\n",
              "  </thead>\n",
              "  <tbody>\n",
              "    <tr>\n",
              "      <th rowspan=\"2\" valign=\"top\">0</th>\n",
              "      <th>Female</th>\n",
              "      <td>23</td>\n",
              "    </tr>\n",
              "    <tr>\n",
              "      <th>Male</th>\n",
              "      <td>15</td>\n",
              "    </tr>\n",
              "    <tr>\n",
              "      <th rowspan=\"2\" valign=\"top\">1</th>\n",
              "      <th>Female</th>\n",
              "      <td>15</td>\n",
              "    </tr>\n",
              "    <tr>\n",
              "      <th>Male</th>\n",
              "      <td>20</td>\n",
              "    </tr>\n",
              "    <tr>\n",
              "      <th rowspan=\"2\" valign=\"top\">2</th>\n",
              "      <th>Female</th>\n",
              "      <td>34</td>\n",
              "    </tr>\n",
              "    <tr>\n",
              "      <th>Male</th>\n",
              "      <td>24</td>\n",
              "    </tr>\n",
              "    <tr>\n",
              "      <th rowspan=\"2\" valign=\"top\">3</th>\n",
              "      <th>Female</th>\n",
              "      <td>40</td>\n",
              "    </tr>\n",
              "    <tr>\n",
              "      <th>Male</th>\n",
              "      <td>29</td>\n",
              "    </tr>\n",
              "  </tbody>\n",
              "</table>\n",
              "</div>"
            ],
            "text/plain": [
              "                Gender\n",
              "cluster Gender        \n",
              "0       Female      23\n",
              "        Male        15\n",
              "1       Female      15\n",
              "        Male        20\n",
              "2       Female      34\n",
              "        Male        24\n",
              "3       Female      40\n",
              "        Male        29"
            ]
          },
          "execution_count": 34,
          "metadata": {},
          "output_type": "execute_result"
        }
      ],
      "source": [
        "# Gender breakdown\n",
        "data2 = pd.DataFrame(data.groupby(['cluster','Gender'])['Gender'].count())\n",
        "data2"
      ]
    },
    {
      "cell_type": "markdown",
      "id": "080243c3",
      "metadata": {
        "id": "080243c3"
      },
      "source": [
        "Cluster 0:\n",
        "\n",
        "    Low average income, high spending score.\n",
        "\n",
        "    Mean age is around 25 and gender is predominantly female.\n",
        "\n",
        "    This segment is made up of a younger age group.\n",
        "\n",
        "    Individuals in this segment are most likely first jobbers. They make the least amount of money compared to all other segments.\n",
        "\n",
        "    However, they are very high spenders.\n",
        "\n",
        "    These are enthusiastic young individuals who enjoy living a good lifestyle, and tend to spend above their means.\n",
        "\n",
        "    Recommendation: Since these are young individuals who spend a lot, providing them with travel coupons or hotel discounts might be a good idea. Providing them with discounts off top clothing and makeup brands would also work well for this segment."
      ]
    },
    {
      "cell_type": "markdown",
      "id": "d7ccba38",
      "metadata": {
        "id": "d7ccba38"
      },
      "source": [
        "Cluster 1:\n",
        "\n",
        "    High average annual income, low spending.\n",
        "\n",
        "    Mean age is around 40 and gender is predominantly male.\n",
        "\n",
        "    This segment comprises of middle aged individuals who are very careful with money.\n",
        "\n",
        "    Despite having the highest average income compared to individuals in all other clusters, they spend the least.\n",
        "\n",
        "    This might be because they have financial responsibilities - like saving up for their kid's higher education.\n",
        "\n",
        "    Recommendation: Promos, coupons, and discount codes will attract individuals in this segment due to their tendency to spend less."
      ]
    },
    {
      "cell_type": "markdown",
      "id": "571a6fa1",
      "metadata": {
        "id": "571a6fa1"
      },
      "source": [
        "Cluster 2:\n",
        "\n",
        "    High average income, high spending score.\n",
        "\n",
        "    Mean age is around 30 and gender is predominantly female.\n",
        "\n",
        "    This segment is made up of middle-aged individuals.\n",
        "\n",
        "    These are individuals who have worked hard to build up a significant amount of wealth.\n",
        "\n",
        "    They also spend large amounts of money to live a good lifestyle.\n",
        "\n",
        "    These individuals have likely just started a family, and are leading baby or family-focused lifestyles. It is a good idea to promote baby or child related products to these individuals.\n",
        "\n",
        "    Recommendation: Due to their large spending capacity and their demographic, these individuals are likely to be looking for properties to buy or invest in. They are also more likely than all other segments to take out housing loans and make serious financial commitments."
      ]
    },
    {
      "cell_type": "markdown",
      "id": "abe50868",
      "metadata": {
        "id": "abe50868"
      },
      "source": [
        "Cluster 3:\n",
        "\n",
        "    Low to mid average income, average spending capacity.\n",
        "\n",
        "    Mean age is around 50 and gender is predominantly female.\n",
        "\n",
        "    This segment comprises of an older group of people.\n",
        "\n",
        "    They earn less and spend less, and are probably saving up for retirement.\n",
        "\n",
        "    Recommendation: Marketing to these individuals can be done through Facebook, which appeals to an older demographic. Promote healthcare related products to people in this segment."
      ]
    },
    {
      "cell_type": "markdown",
      "id": "a02e992a",
      "metadata": {
        "id": "a02e992a"
      },
      "source": [
        "# ***THE END***\n",
        "\n",
        "                                           X----X----X"
      ]
    }
  ],
  "metadata": {
    "kernelspec": {
      "display_name": "Python 3 (ipykernel)",
      "language": "python",
      "name": "python3"
    },
    "language_info": {
      "codemirror_mode": {
        "name": "ipython",
        "version": 3
      },
      "file_extension": ".py",
      "mimetype": "text/x-python",
      "name": "python",
      "nbconvert_exporter": "python",
      "pygments_lexer": "ipython3",
      "version": "3.9.7"
    },
    "colab": {
      "provenance": [],
      "collapsed_sections": [
        "b61ccd26",
        "99407fd7",
        "d24b4245"
      ]
    }
  },
  "nbformat": 4,
  "nbformat_minor": 5
}